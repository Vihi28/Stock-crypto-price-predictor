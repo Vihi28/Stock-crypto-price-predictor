{
  "nbformat": 4,
  "nbformat_minor": 0,
  "metadata": {
    "colab": {
      "name": "STOCK PRICE PREDICTOR.ipynb",
      "provenance": [],
      "collapsed_sections": [],
      "include_colab_link": true
    },
    "kernelspec": {
      "name": "python3",
      "display_name": "Python 3"
    },
    "language_info": {
      "name": "python"
    }
  },
  "cells": [
    {
      "cell_type": "markdown",
      "metadata": {
        "id": "view-in-github",
        "colab_type": "text"
      },
      "source": [
        "<a href=\"https://colab.research.google.com/github/Vihi28/Stock-crypto-price-predictor/blob/main/STOCK_PRICE_PREDICTOR.ipynb\" target=\"_parent\"><img src=\"https://colab.research.google.com/assets/colab-badge.svg\" alt=\"Open In Colab\"/></a>"
      ]
    },
    {
      "cell_type": "code",
      "source": [
        "!pip install --upgrade pandas"
      ],
      "metadata": {
        "colab": {
          "base_uri": "https://localhost:8080/"
        },
        "id": "sqLzMMX2ALBv",
        "outputId": "cdd27938-078e-4c40-a512-0305a0e282b8"
      },
      "execution_count": null,
      "outputs": [
        {
          "output_type": "stream",
          "name": "stdout",
          "text": [
            "Looking in indexes: https://pypi.org/simple, https://us-python.pkg.dev/colab-wheels/public/simple/\n",
            "Requirement already satisfied: pandas in /usr/local/lib/python3.7/dist-packages (1.3.5)\n",
            "Requirement already satisfied: python-dateutil>=2.7.3 in /usr/local/lib/python3.7/dist-packages (from pandas) (2.8.2)\n",
            "Requirement already satisfied: numpy>=1.17.3 in /usr/local/lib/python3.7/dist-packages (from pandas) (1.21.6)\n",
            "Requirement already satisfied: pytz>=2017.3 in /usr/local/lib/python3.7/dist-packages (from pandas) (2022.1)\n",
            "Requirement already satisfied: six>=1.5 in /usr/local/lib/python3.7/dist-packages (from python-dateutil>=2.7.3->pandas) (1.15.0)\n"
          ]
        }
      ]
    },
    {
      "cell_type": "code",
      "source": [
        "!pip install --upgrade pandas_datareader"
      ],
      "metadata": {
        "colab": {
          "base_uri": "https://localhost:8080/"
        },
        "id": "ez8XD01ZALN4",
        "outputId": "dfa72708-5008-46c0-c287-a08f737ac8de"
      },
      "execution_count": null,
      "outputs": [
        {
          "output_type": "stream",
          "name": "stdout",
          "text": [
            "Looking in indexes: https://pypi.org/simple, https://us-python.pkg.dev/colab-wheels/public/simple/\n",
            "Requirement already satisfied: pandas_datareader in /usr/local/lib/python3.7/dist-packages (0.9.0)\n",
            "Collecting pandas_datareader\n",
            "  Downloading pandas_datareader-0.10.0-py3-none-any.whl (109 kB)\n",
            "\u001b[K     |████████████████████████████████| 109 kB 7.6 MB/s \n",
            "\u001b[?25hRequirement already satisfied: lxml in /usr/local/lib/python3.7/dist-packages (from pandas_datareader) (4.2.6)\n",
            "Requirement already satisfied: pandas>=0.23 in /usr/local/lib/python3.7/dist-packages (from pandas_datareader) (1.3.5)\n",
            "Requirement already satisfied: requests>=2.19.0 in /usr/local/lib/python3.7/dist-packages (from pandas_datareader) (2.23.0)\n",
            "Requirement already satisfied: pytz>=2017.3 in /usr/local/lib/python3.7/dist-packages (from pandas>=0.23->pandas_datareader) (2022.1)\n",
            "Requirement already satisfied: numpy>=1.17.3 in /usr/local/lib/python3.7/dist-packages (from pandas>=0.23->pandas_datareader) (1.21.6)\n",
            "Requirement already satisfied: python-dateutil>=2.7.3 in /usr/local/lib/python3.7/dist-packages (from pandas>=0.23->pandas_datareader) (2.8.2)\n",
            "Requirement already satisfied: six>=1.5 in /usr/local/lib/python3.7/dist-packages (from python-dateutil>=2.7.3->pandas>=0.23->pandas_datareader) (1.15.0)\n",
            "Requirement already satisfied: chardet<4,>=3.0.2 in /usr/local/lib/python3.7/dist-packages (from requests>=2.19.0->pandas_datareader) (3.0.4)\n",
            "Requirement already satisfied: certifi>=2017.4.17 in /usr/local/lib/python3.7/dist-packages (from requests>=2.19.0->pandas_datareader) (2022.6.15)\n",
            "Requirement already satisfied: idna<3,>=2.5 in /usr/local/lib/python3.7/dist-packages (from requests>=2.19.0->pandas_datareader) (2.10)\n",
            "Requirement already satisfied: urllib3!=1.25.0,!=1.25.1,<1.26,>=1.21.1 in /usr/local/lib/python3.7/dist-packages (from requests>=2.19.0->pandas_datareader) (1.24.3)\n",
            "Installing collected packages: pandas-datareader\n",
            "  Attempting uninstall: pandas-datareader\n",
            "    Found existing installation: pandas-datareader 0.9.0\n",
            "    Uninstalling pandas-datareader-0.9.0:\n",
            "      Successfully uninstalled pandas-datareader-0.9.0\n",
            "Successfully installed pandas-datareader-0.10.0\n"
          ]
        }
      ]
    },
    {
      "cell_type": "code",
      "execution_count": null,
      "metadata": {
        "id": "ehYGphVbeFAG"
      },
      "outputs": [],
      "source": [
        "import pandas_datareader as web"
      ]
    },
    {
      "cell_type": "code",
      "source": [
        "df1 = web.DataReader(\"GOOGL\", data_source='yahoo', start='2012-01-01')"
      ],
      "metadata": {
        "id": "AyccbwsM4Sku"
      },
      "execution_count": null,
      "outputs": []
    },
    {
      "cell_type": "code",
      "source": [
        "n1 = df1.shape[0]"
      ],
      "metadata": {
        "id": "BDXbueYb4ShX"
      },
      "execution_count": null,
      "outputs": []
    },
    {
      "cell_type": "code",
      "source": [
        "import math\n",
        "data1 = df1.filter([\"Close\"])\n",
        "dataset1 = data1.values\n",
        "tr_dat_len1 = math.ceil(len(dataset1)*0.8)\n",
        "tr_dat_len1"
      ],
      "metadata": {
        "colab": {
          "base_uri": "https://localhost:8080/"
        },
        "id": "Q5qAIM2L4SfR",
        "outputId": "359d071f-4085-40d5-c6da-66760214487f"
      },
      "execution_count": null,
      "outputs": [
        {
          "output_type": "execute_result",
          "data": {
            "text/plain": [
              "2112"
            ]
          },
          "metadata": {},
          "execution_count": 6
        }
      ]
    },
    {
      "cell_type": "code",
      "source": [
        "from sklearn.preprocessing import MinMaxScaler\n",
        "sc1 = MinMaxScaler(feature_range=(0,1))\n",
        "sc_data1 = sc1.fit_transform(dataset1)\n",
        "sc_data1"
      ],
      "metadata": {
        "colab": {
          "base_uri": "https://localhost:8080/"
        },
        "id": "jlRc-K_e4Scs",
        "outputId": "af3483f1-4455-4b91-fbfb-a8dc2d913649"
      },
      "execution_count": null,
      "outputs": [
        {
          "output_type": "execute_result",
          "data": {
            "text/plain": [
              "array([[0.0195929 ],\n",
              "       [0.0201216 ],\n",
              "       [0.01841394],\n",
              "       ...,\n",
              "       [0.74968391],\n",
              "       [0.72152013],\n",
              "       [0.71926766]])"
            ]
          },
          "metadata": {},
          "execution_count": 7
        }
      ]
    },
    {
      "cell_type": "code",
      "source": [
        "train_data1 = sc_data1[0:tr_dat_len1, :]\n",
        "x_train1 = []\n",
        "y_train1= []\n",
        "for i1 in range(60, len(train_data1)):\n",
        "  x_train1.append(train_data1[i1-60:i1, 0])\n",
        "  y_train1.append(train_data1[i1, 0])\n",
        "  if i1<=60:\n",
        "    print(\"x_train:\",x_train1)\n",
        "    print()\n",
        "    print(\"y_train:\", y_train1)"
      ],
      "metadata": {
        "colab": {
          "base_uri": "https://localhost:8080/"
        },
        "id": "nsBgWafJ4SaX",
        "outputId": "bd386573-1218-4d8c-9993-2e2d278c55cd"
      },
      "execution_count": null,
      "outputs": [
        {
          "output_type": "stream",
          "name": "stdout",
          "text": [
            "x_train: [array([0.0195929 , 0.0201216 , 0.01841394, 0.01675786, 0.01168095,\n",
            "       0.01180622, 0.0123257 , 0.0130036 , 0.01214701, 0.01280834,\n",
            "       0.01360597, 0.01483283, 0.0049627 , 0.00487611, 0.00403058,\n",
            "       0.00192318, 0.00166712, 0.00385558, 0.00343373, 0.00387952,\n",
            "       0.00401216, 0.00480059, 0.00686746, 0.00921802, 0.00879065,\n",
            "       0.00935802, 0.00965461, 0.00863223, 0.00979092, 0.00934144,\n",
            "       0.00856774, 0.00874459, 0.00839827, 0.01012251, 0.00900617,\n",
            "       0.00866907, 0.00936723, 0.00925855, 0.01093121, 0.01090542,\n",
            "       0.01166989, 0.01145805, 0.01016856, 0.00845722, 0.00879617,\n",
            "       0.0088588 , 0.00758957, 0.00849222, 0.01081883, 0.01048909,\n",
            "       0.01143595, 0.01215622, 0.01380309, 0.01371282, 0.01490836,\n",
            "       0.01602654, 0.01538915, 0.01663075, 0.01620522, 0.01781525])]\n",
            "\n",
            "y_train: [0.01646128234595816]\n"
          ]
        }
      ]
    },
    {
      "cell_type": "code",
      "source": [
        "import numpy as np\n",
        "x_train1, y_train1 = np.array(x_train1), np.array(y_train1)\n",
        "x_train1 = np.reshape(x_train1, (x_train1.shape[0], x_train1.shape[1], 1)) \n",
        "x_train1.shape"
      ],
      "metadata": {
        "colab": {
          "base_uri": "https://localhost:8080/"
        },
        "id": "Gfa3qExl4SX1",
        "outputId": "cd0756e9-ffd0-4f9e-d95d-6a70992cf475"
      },
      "execution_count": null,
      "outputs": [
        {
          "output_type": "execute_result",
          "data": {
            "text/plain": [
              "(2052, 60, 1)"
            ]
          },
          "metadata": {},
          "execution_count": 9
        }
      ]
    },
    {
      "cell_type": "code",
      "source": [
        "from keras.models import Sequential\n",
        "from keras.layers import Dense\n",
        "from keras.layers import LSTM\n",
        "model1 = Sequential()\n",
        "model1.add(LSTM(50, return_sequences= True))\n",
        "model1.add(LSTM(50, return_sequences= False))\n",
        "model1.add(Dense(25))\n",
        "model1.add(Dense(1))"
      ],
      "metadata": {
        "id": "sT46zaz_4SVj"
      },
      "execution_count": null,
      "outputs": []
    },
    {
      "cell_type": "code",
      "source": [
        "model1.compile(optimizer='adam', loss='mean_squared_error')"
      ],
      "metadata": {
        "id": "Kp5wxjEh6SRh"
      },
      "execution_count": null,
      "outputs": []
    },
    {
      "cell_type": "code",
      "source": [
        "model1.fit(x_train1, y_train1, batch_size=1, epochs=1)"
      ],
      "metadata": {
        "colab": {
          "base_uri": "https://localhost:8080/"
        },
        "id": "6wMAzdIF6SOJ",
        "outputId": "85ee1936-3e5b-4436-d0ff-eac831cc463a"
      },
      "execution_count": null,
      "outputs": [
        {
          "output_type": "stream",
          "name": "stdout",
          "text": [
            "2052/2052 [==============================] - 68s 31ms/step - loss: 4.1523e-04\n"
          ]
        },
        {
          "output_type": "execute_result",
          "data": {
            "text/plain": [
              "<keras.callbacks.History at 0x7f77953a3510>"
            ]
          },
          "metadata": {},
          "execution_count": 12
        }
      ]
    },
    {
      "cell_type": "code",
      "source": [
        "df2 = web.DataReader(\"AAPL\", data_source='yahoo', start='2012-01-01')"
      ],
      "metadata": {
        "id": "aG_hVzwo6SLm"
      },
      "execution_count": null,
      "outputs": []
    },
    {
      "cell_type": "code",
      "source": [
        "n2 = df2.shape[0]"
      ],
      "metadata": {
        "id": "-zM0T_cB6R9a"
      },
      "execution_count": null,
      "outputs": []
    },
    {
      "cell_type": "code",
      "source": [
        "import math\n",
        "data2 = df2.filter([\"Close\"])\n",
        "dataset2 = data2.values\n",
        "tr_dat_len2 = math.ceil(len(dataset2)*0.8)\n",
        "tr_dat_len2"
      ],
      "metadata": {
        "colab": {
          "base_uri": "https://localhost:8080/"
        },
        "id": "_HEIEaVB6R6B",
        "outputId": "ee91d4ec-c5cb-41e1-c42f-d04ae451b401"
      },
      "execution_count": null,
      "outputs": [
        {
          "output_type": "execute_result",
          "data": {
            "text/plain": [
              "2112"
            ]
          },
          "metadata": {},
          "execution_count": 15
        }
      ]
    },
    {
      "cell_type": "code",
      "source": [
        "from sklearn.preprocessing import MinMaxScaler\n",
        "sc2 = MinMaxScaler(feature_range=(0,1))\n",
        "sc_data2 = sc2.fit_transform(dataset2)\n",
        "sc_data2"
      ],
      "metadata": {
        "colab": {
          "base_uri": "https://localhost:8080/"
        },
        "id": "70OpW5ZM6R3m",
        "outputId": "a6d13b12-4b96-42b2-ddf2-8d27422dec78"
      },
      "execution_count": null,
      "outputs": [
        {
          "output_type": "execute_result",
          "data": {
            "text/plain": [
              "array([[0.00439887],\n",
              "       [0.00486851],\n",
              "       [0.00584391],\n",
              "       ...,\n",
              "       [0.75991079],\n",
              "       [0.73480108],\n",
              "       [0.74545184]])"
            ]
          },
          "metadata": {},
          "execution_count": 16
        }
      ]
    },
    {
      "cell_type": "code",
      "source": [
        "train_data2 = sc_data2[0:tr_dat_len2, :]\n",
        "x_train2 = []\n",
        "y_train2 = []\n",
        "for i2 in range(60, len(train_data2)):\n",
        "  x_train2.append(train_data2[i2-60:i2, 0])\n",
        "  y_train2.append(train_data2[i2, 0])\n",
        "  if i2<=60:\n",
        "    print(\"x_train:\",x_train2)\n",
        "    print()\n",
        "    print(\"y_train:\", y_train2)"
      ],
      "metadata": {
        "colab": {
          "base_uri": "https://localhost:8080/"
        },
        "id": "H1Mg6dc96zjN",
        "outputId": "5567e173-a262-4ca5-ec87-087aa15c800a"
      },
      "execution_count": null,
      "outputs": [
        {
          "output_type": "stream",
          "name": "stdout",
          "text": [
            "x_train: [array([0.00439887, 0.00486851, 0.00584391, 0.00677256, 0.00663019,\n",
            "       0.00695107, 0.00680444, 0.00655793, 0.00622217, 0.00726133,\n",
            "       0.00819848, 0.00790947, 0.0063263 , 0.00783722, 0.00634968,\n",
            "       0.01192796, 0.01149658, 0.01205972, 0.01327737, 0.01401476,\n",
            "       0.01395314, 0.01372576, 0.01469479, 0.01560643, 0.01663922,\n",
            "       0.01830739, 0.02181161, 0.02186474, 0.02381555, 0.02527333,\n",
            "       0.0227679 , 0.02373267, 0.02371354, 0.02641875, 0.02603411,\n",
            "       0.026746  , 0.02802528, 0.02873719, 0.03078787, 0.03228178,\n",
            "       0.03271317, 0.03286405, 0.03030973, 0.02969346, 0.02978484,\n",
            "       0.03218616, 0.03286193, 0.03431335, 0.03773469, 0.04229932,\n",
            "       0.04144504, 0.04144716, 0.04474738, 0.04578017, 0.04504489,\n",
            "       0.04437338, 0.04367423, 0.04599691, 0.04759072, 0.04825798])]\n",
            "\n",
            "y_train: [0.04660893460974819]\n"
          ]
        }
      ]
    },
    {
      "cell_type": "code",
      "source": [
        "import numpy as np\n",
        "x_train2, y_train2 = np.array(x_train2), np.array(y_train2)\n",
        "x_train2 = np.reshape(x_train2, (x_train2.shape[0], x_train2.shape[1], 1)) \n",
        "x_train2.shape"
      ],
      "metadata": {
        "colab": {
          "base_uri": "https://localhost:8080/"
        },
        "id": "KvraLgA66zfz",
        "outputId": "39db99b9-dccb-41f1-ee87-01d176353f17"
      },
      "execution_count": null,
      "outputs": [
        {
          "output_type": "execute_result",
          "data": {
            "text/plain": [
              "(2052, 60, 1)"
            ]
          },
          "metadata": {},
          "execution_count": 18
        }
      ]
    },
    {
      "cell_type": "code",
      "source": [
        "from keras.models import Sequential\n",
        "from keras.layers import Dense\n",
        "from keras.layers import LSTM\n",
        "model2 = Sequential()\n",
        "model2.add(LSTM(50, return_sequences= True))\n",
        "model2.add(LSTM(50, return_sequences= False))\n",
        "model2.add(Dense(25))\n",
        "model2.add(Dense(1))"
      ],
      "metadata": {
        "id": "G0nXUYUT6zdj"
      },
      "execution_count": null,
      "outputs": []
    },
    {
      "cell_type": "code",
      "source": [
        "model2.compile(optimizer='adam', loss='mean_squared_error')"
      ],
      "metadata": {
        "id": "KtnnjV3s6zbB"
      },
      "execution_count": null,
      "outputs": []
    },
    {
      "cell_type": "code",
      "source": [
        "model2.fit(x_train2, y_train2, batch_size=1, epochs=1)"
      ],
      "metadata": {
        "colab": {
          "base_uri": "https://localhost:8080/"
        },
        "id": "K7TMhKXB6zYs",
        "outputId": "f3bab45c-b1bc-422e-9c5e-9b5c21577412"
      },
      "execution_count": null,
      "outputs": [
        {
          "output_type": "stream",
          "name": "stdout",
          "text": [
            "2052/2052 [==============================] - 56s 25ms/step - loss: 2.9710e-04\n"
          ]
        },
        {
          "output_type": "execute_result",
          "data": {
            "text/plain": [
              "<keras.callbacks.History at 0x7f7794f500d0>"
            ]
          },
          "metadata": {},
          "execution_count": 21
        }
      ]
    },
    {
      "cell_type": "code",
      "source": [
        "test_data2 = sc_data2[tr_dat_len2 -60: , :]\n",
        "x_test2 = []\n",
        "y_test2 = dataset2[tr_dat_len2: , :]\n",
        "for i in range(60, len(test_data2)):\n",
        "  x_test2.append(test_data2[i-60:i, 0])\n",
        "\n",
        "x_test2 = np.array(x_test2)\n",
        "x_test2 = np.reshape(x_test2, (x_test2.shape[0], x_test2.shape[1], 1))"
      ],
      "metadata": {
        "id": "2vn1sNxs29Ot"
      },
      "execution_count": null,
      "outputs": []
    },
    {
      "cell_type": "code",
      "source": [
        "df3 = web.DataReader(\"GLD\", data_source='yahoo', start='2012-01-03')\n",
        "df3"
      ],
      "metadata": {
        "id": "HWnl-6WmwbRu",
        "colab": {
          "base_uri": "https://localhost:8080/",
          "height": 455
        },
        "outputId": "976077b0-0947-4d4b-9e53-5474fc0a830f"
      },
      "execution_count": null,
      "outputs": [
        {
          "output_type": "execute_result",
          "data": {
            "text/plain": [
              "                  High         Low        Open       Close    Volume  \\\n",
              "Date                                                                   \n",
              "2012-01-03  156.300003  154.550003  154.759995  155.919998  13385800   \n",
              "2012-01-04  157.380005  155.339996  155.429993  156.710007  11549700   \n",
              "2012-01-05  158.029999  155.250000  155.369995  157.779999  11621600   \n",
              "2012-01-06  158.630005  156.380005  158.589996  157.199997   9790500   \n",
              "2012-01-09  157.589996  156.190002  157.360001  156.500000   8771900   \n",
              "...                ...         ...         ...         ...       ...   \n",
              "2022-06-23  172.130005  169.899994  171.389999  170.259995   6535300   \n",
              "2022-06-24  170.740005  169.850006  170.240005  170.089996   6138700   \n",
              "2022-06-27  170.669998  169.750000  170.600006  169.899994   5719700   \n",
              "2022-06-28  170.210007  169.509995  170.070007  169.619995   2982700   \n",
              "2022-06-29  170.699997  169.169998  170.580002  169.490005   4781900   \n",
              "\n",
              "             Adj Close  \n",
              "Date                    \n",
              "2012-01-03  155.919998  \n",
              "2012-01-04  156.710007  \n",
              "2012-01-05  157.779999  \n",
              "2012-01-06  157.199997  \n",
              "2012-01-09  156.500000  \n",
              "...                ...  \n",
              "2022-06-23  170.259995  \n",
              "2022-06-24  170.089996  \n",
              "2022-06-27  169.899994  \n",
              "2022-06-28  169.619995  \n",
              "2022-06-29  169.490005  \n",
              "\n",
              "[2640 rows x 6 columns]"
            ],
            "text/html": [
              "\n",
              "  <div id=\"df-bec29b64-fac3-4621-a5e3-0765824b81db\">\n",
              "    <div class=\"colab-df-container\">\n",
              "      <div>\n",
              "<style scoped>\n",
              "    .dataframe tbody tr th:only-of-type {\n",
              "        vertical-align: middle;\n",
              "    }\n",
              "\n",
              "    .dataframe tbody tr th {\n",
              "        vertical-align: top;\n",
              "    }\n",
              "\n",
              "    .dataframe thead th {\n",
              "        text-align: right;\n",
              "    }\n",
              "</style>\n",
              "<table border=\"1\" class=\"dataframe\">\n",
              "  <thead>\n",
              "    <tr style=\"text-align: right;\">\n",
              "      <th></th>\n",
              "      <th>High</th>\n",
              "      <th>Low</th>\n",
              "      <th>Open</th>\n",
              "      <th>Close</th>\n",
              "      <th>Volume</th>\n",
              "      <th>Adj Close</th>\n",
              "    </tr>\n",
              "    <tr>\n",
              "      <th>Date</th>\n",
              "      <th></th>\n",
              "      <th></th>\n",
              "      <th></th>\n",
              "      <th></th>\n",
              "      <th></th>\n",
              "      <th></th>\n",
              "    </tr>\n",
              "  </thead>\n",
              "  <tbody>\n",
              "    <tr>\n",
              "      <th>2012-01-03</th>\n",
              "      <td>156.300003</td>\n",
              "      <td>154.550003</td>\n",
              "      <td>154.759995</td>\n",
              "      <td>155.919998</td>\n",
              "      <td>13385800</td>\n",
              "      <td>155.919998</td>\n",
              "    </tr>\n",
              "    <tr>\n",
              "      <th>2012-01-04</th>\n",
              "      <td>157.380005</td>\n",
              "      <td>155.339996</td>\n",
              "      <td>155.429993</td>\n",
              "      <td>156.710007</td>\n",
              "      <td>11549700</td>\n",
              "      <td>156.710007</td>\n",
              "    </tr>\n",
              "    <tr>\n",
              "      <th>2012-01-05</th>\n",
              "      <td>158.029999</td>\n",
              "      <td>155.250000</td>\n",
              "      <td>155.369995</td>\n",
              "      <td>157.779999</td>\n",
              "      <td>11621600</td>\n",
              "      <td>157.779999</td>\n",
              "    </tr>\n",
              "    <tr>\n",
              "      <th>2012-01-06</th>\n",
              "      <td>158.630005</td>\n",
              "      <td>156.380005</td>\n",
              "      <td>158.589996</td>\n",
              "      <td>157.199997</td>\n",
              "      <td>9790500</td>\n",
              "      <td>157.199997</td>\n",
              "    </tr>\n",
              "    <tr>\n",
              "      <th>2012-01-09</th>\n",
              "      <td>157.589996</td>\n",
              "      <td>156.190002</td>\n",
              "      <td>157.360001</td>\n",
              "      <td>156.500000</td>\n",
              "      <td>8771900</td>\n",
              "      <td>156.500000</td>\n",
              "    </tr>\n",
              "    <tr>\n",
              "      <th>...</th>\n",
              "      <td>...</td>\n",
              "      <td>...</td>\n",
              "      <td>...</td>\n",
              "      <td>...</td>\n",
              "      <td>...</td>\n",
              "      <td>...</td>\n",
              "    </tr>\n",
              "    <tr>\n",
              "      <th>2022-06-23</th>\n",
              "      <td>172.130005</td>\n",
              "      <td>169.899994</td>\n",
              "      <td>171.389999</td>\n",
              "      <td>170.259995</td>\n",
              "      <td>6535300</td>\n",
              "      <td>170.259995</td>\n",
              "    </tr>\n",
              "    <tr>\n",
              "      <th>2022-06-24</th>\n",
              "      <td>170.740005</td>\n",
              "      <td>169.850006</td>\n",
              "      <td>170.240005</td>\n",
              "      <td>170.089996</td>\n",
              "      <td>6138700</td>\n",
              "      <td>170.089996</td>\n",
              "    </tr>\n",
              "    <tr>\n",
              "      <th>2022-06-27</th>\n",
              "      <td>170.669998</td>\n",
              "      <td>169.750000</td>\n",
              "      <td>170.600006</td>\n",
              "      <td>169.899994</td>\n",
              "      <td>5719700</td>\n",
              "      <td>169.899994</td>\n",
              "    </tr>\n",
              "    <tr>\n",
              "      <th>2022-06-28</th>\n",
              "      <td>170.210007</td>\n",
              "      <td>169.509995</td>\n",
              "      <td>170.070007</td>\n",
              "      <td>169.619995</td>\n",
              "      <td>2982700</td>\n",
              "      <td>169.619995</td>\n",
              "    </tr>\n",
              "    <tr>\n",
              "      <th>2022-06-29</th>\n",
              "      <td>170.699997</td>\n",
              "      <td>169.169998</td>\n",
              "      <td>170.580002</td>\n",
              "      <td>169.490005</td>\n",
              "      <td>4781900</td>\n",
              "      <td>169.490005</td>\n",
              "    </tr>\n",
              "  </tbody>\n",
              "</table>\n",
              "<p>2640 rows × 6 columns</p>\n",
              "</div>\n",
              "      <button class=\"colab-df-convert\" onclick=\"convertToInteractive('df-bec29b64-fac3-4621-a5e3-0765824b81db')\"\n",
              "              title=\"Convert this dataframe to an interactive table.\"\n",
              "              style=\"display:none;\">\n",
              "        \n",
              "  <svg xmlns=\"http://www.w3.org/2000/svg\" height=\"24px\"viewBox=\"0 0 24 24\"\n",
              "       width=\"24px\">\n",
              "    <path d=\"M0 0h24v24H0V0z\" fill=\"none\"/>\n",
              "    <path d=\"M18.56 5.44l.94 2.06.94-2.06 2.06-.94-2.06-.94-.94-2.06-.94 2.06-2.06.94zm-11 1L8.5 8.5l.94-2.06 2.06-.94-2.06-.94L8.5 2.5l-.94 2.06-2.06.94zm10 10l.94 2.06.94-2.06 2.06-.94-2.06-.94-.94-2.06-.94 2.06-2.06.94z\"/><path d=\"M17.41 7.96l-1.37-1.37c-.4-.4-.92-.59-1.43-.59-.52 0-1.04.2-1.43.59L10.3 9.45l-7.72 7.72c-.78.78-.78 2.05 0 2.83L4 21.41c.39.39.9.59 1.41.59.51 0 1.02-.2 1.41-.59l7.78-7.78 2.81-2.81c.8-.78.8-2.07 0-2.86zM5.41 20L4 18.59l7.72-7.72 1.47 1.35L5.41 20z\"/>\n",
              "  </svg>\n",
              "      </button>\n",
              "      \n",
              "  <style>\n",
              "    .colab-df-container {\n",
              "      display:flex;\n",
              "      flex-wrap:wrap;\n",
              "      gap: 12px;\n",
              "    }\n",
              "\n",
              "    .colab-df-convert {\n",
              "      background-color: #E8F0FE;\n",
              "      border: none;\n",
              "      border-radius: 50%;\n",
              "      cursor: pointer;\n",
              "      display: none;\n",
              "      fill: #1967D2;\n",
              "      height: 32px;\n",
              "      padding: 0 0 0 0;\n",
              "      width: 32px;\n",
              "    }\n",
              "\n",
              "    .colab-df-convert:hover {\n",
              "      background-color: #E2EBFA;\n",
              "      box-shadow: 0px 1px 2px rgba(60, 64, 67, 0.3), 0px 1px 3px 1px rgba(60, 64, 67, 0.15);\n",
              "      fill: #174EA6;\n",
              "    }\n",
              "\n",
              "    [theme=dark] .colab-df-convert {\n",
              "      background-color: #3B4455;\n",
              "      fill: #D2E3FC;\n",
              "    }\n",
              "\n",
              "    [theme=dark] .colab-df-convert:hover {\n",
              "      background-color: #434B5C;\n",
              "      box-shadow: 0px 1px 3px 1px rgba(0, 0, 0, 0.15);\n",
              "      filter: drop-shadow(0px 1px 2px rgba(0, 0, 0, 0.3));\n",
              "      fill: #FFFFFF;\n",
              "    }\n",
              "  </style>\n",
              "\n",
              "      <script>\n",
              "        const buttonEl =\n",
              "          document.querySelector('#df-bec29b64-fac3-4621-a5e3-0765824b81db button.colab-df-convert');\n",
              "        buttonEl.style.display =\n",
              "          google.colab.kernel.accessAllowed ? 'block' : 'none';\n",
              "\n",
              "        async function convertToInteractive(key) {\n",
              "          const element = document.querySelector('#df-bec29b64-fac3-4621-a5e3-0765824b81db');\n",
              "          const dataTable =\n",
              "            await google.colab.kernel.invokeFunction('convertToInteractive',\n",
              "                                                     [key], {});\n",
              "          if (!dataTable) return;\n",
              "\n",
              "          const docLinkHtml = 'Like what you see? Visit the ' +\n",
              "            '<a target=\"_blank\" href=https://colab.research.google.com/notebooks/data_table.ipynb>data table notebook</a>'\n",
              "            + ' to learn more about interactive tables.';\n",
              "          element.innerHTML = '';\n",
              "          dataTable['output_type'] = 'display_data';\n",
              "          await google.colab.output.renderOutput(dataTable, element);\n",
              "          const docLink = document.createElement('div');\n",
              "          docLink.innerHTML = docLinkHtml;\n",
              "          element.appendChild(docLink);\n",
              "        }\n",
              "      </script>\n",
              "    </div>\n",
              "  </div>\n",
              "  "
            ]
          },
          "metadata": {},
          "execution_count": 23
        }
      ]
    },
    {
      "cell_type": "code",
      "source": [
        "n3 = df3.shape[0]"
      ],
      "metadata": {
        "id": "tVhJYznHwcWX"
      },
      "execution_count": null,
      "outputs": []
    },
    {
      "cell_type": "code",
      "source": [
        "import math\n",
        "data3 = df3.filter([\"Close\"])\n",
        "dataset3 = data3.values\n",
        "tr_dat_len3 = math.ceil(len(dataset3)*0.8)\n",
        "tr_dat_len3"
      ],
      "metadata": {
        "colab": {
          "base_uri": "https://localhost:8080/"
        },
        "id": "jCEwkPinLw4l",
        "outputId": "1046bbfd-1fcb-46ff-87c5-9fc86f15141e"
      },
      "execution_count": null,
      "outputs": [
        {
          "output_type": "execute_result",
          "data": {
            "text/plain": [
              "2112"
            ]
          },
          "metadata": {},
          "execution_count": 25
        }
      ]
    },
    {
      "cell_type": "code",
      "source": [
        "from sklearn.preprocessing import MinMaxScaler\n",
        "\n",
        "sc3 = MinMaxScaler(feature_range=(0,1))\n",
        "sc_data3 = sc3.fit_transform(dataset2)\n",
        "\n",
        "sc_data3"
      ],
      "metadata": {
        "colab": {
          "base_uri": "https://localhost:8080/"
        },
        "id": "mM1G7WmiMB4A",
        "outputId": "5a9174ca-ea80-4ac7-dd19-4ac9e34a9e50"
      },
      "execution_count": null,
      "outputs": [
        {
          "output_type": "execute_result",
          "data": {
            "text/plain": [
              "array([[0.00439887],\n",
              "       [0.00486851],\n",
              "       [0.00584391],\n",
              "       ...,\n",
              "       [0.75991079],\n",
              "       [0.73480108],\n",
              "       [0.74545184]])"
            ]
          },
          "metadata": {},
          "execution_count": 26
        }
      ]
    },
    {
      "cell_type": "code",
      "source": [
        "train_data3 = sc_data3[0:tr_dat_len3, :]\n",
        "x_train3 = []\n",
        "y_train3 = []\n",
        "\n",
        "for i3 in range(60, len(train_data3)):\n",
        "  x_train3.append(train_data2[i3-60:i3, 0])\n",
        "  y_train3.append(train_data2[i3, 0])\n",
        "  if i3<=60:\n",
        "    print(\"x_train:\",x_train3)\n",
        "    print()\n",
        "    print(\"y_train:\", y_train3)"
      ],
      "metadata": {
        "colab": {
          "base_uri": "https://localhost:8080/"
        },
        "id": "42ICb5lAMZZS",
        "outputId": "c280b4a0-fe02-48b7-8251-b02328608747"
      },
      "execution_count": null,
      "outputs": [
        {
          "output_type": "stream",
          "name": "stdout",
          "text": [
            "x_train: [array([0.00439887, 0.00486851, 0.00584391, 0.00677256, 0.00663019,\n",
            "       0.00695107, 0.00680444, 0.00655793, 0.00622217, 0.00726133,\n",
            "       0.00819848, 0.00790947, 0.0063263 , 0.00783722, 0.00634968,\n",
            "       0.01192796, 0.01149658, 0.01205972, 0.01327737, 0.01401476,\n",
            "       0.01395314, 0.01372576, 0.01469479, 0.01560643, 0.01663922,\n",
            "       0.01830739, 0.02181161, 0.02186474, 0.02381555, 0.02527333,\n",
            "       0.0227679 , 0.02373267, 0.02371354, 0.02641875, 0.02603411,\n",
            "       0.026746  , 0.02802528, 0.02873719, 0.03078787, 0.03228178,\n",
            "       0.03271317, 0.03286405, 0.03030973, 0.02969346, 0.02978484,\n",
            "       0.03218616, 0.03286193, 0.03431335, 0.03773469, 0.04229932,\n",
            "       0.04144504, 0.04144716, 0.04474738, 0.04578017, 0.04504489,\n",
            "       0.04437338, 0.04367423, 0.04599691, 0.04759072, 0.04825798])]\n",
            "\n",
            "y_train: [0.04660893460974819]\n"
          ]
        }
      ]
    },
    {
      "cell_type": "code",
      "source": [
        "import numpy as np\n",
        "x_train3, y_train3 = np.array(x_train3), np.array(y_train3)"
      ],
      "metadata": {
        "id": "NxzQztHxMoIJ"
      },
      "execution_count": null,
      "outputs": []
    },
    {
      "cell_type": "code",
      "source": [
        "x_train3 = np.reshape(x_train3, (x_train3.shape[0], x_train3.shape[1], 1)) \n",
        "x_train3.shape"
      ],
      "metadata": {
        "colab": {
          "base_uri": "https://localhost:8080/"
        },
        "id": "GdoX4aWYM4W8",
        "outputId": "4164b63d-39a5-4d85-86c4-2f0443cc6997"
      },
      "execution_count": null,
      "outputs": [
        {
          "output_type": "execute_result",
          "data": {
            "text/plain": [
              "(2052, 60, 1)"
            ]
          },
          "metadata": {},
          "execution_count": 29
        }
      ]
    },
    {
      "cell_type": "code",
      "source": [
        "from keras.models import Sequential\n",
        "from keras.layers import Dense\n",
        "from keras.layers import LSTM\n",
        "\n",
        "model3 = Sequential()\n",
        "model3.add(LSTM(50, return_sequences= True))\n",
        "model3.add(LSTM(50, return_sequences= False))\n",
        "model3.add(Dense(25))\n",
        "model3.add(Dense(1))"
      ],
      "metadata": {
        "id": "McTaLaVwNGj4"
      },
      "execution_count": null,
      "outputs": []
    },
    {
      "cell_type": "code",
      "source": [
        "model3.compile(optimizer='adam', loss='mean_squared_error')"
      ],
      "metadata": {
        "id": "GcaC4nsNNL8w"
      },
      "execution_count": null,
      "outputs": []
    },
    {
      "cell_type": "code",
      "source": [
        "model3.fit(x_train3, y_train3, batch_size=1, epochs=1)"
      ],
      "metadata": {
        "colab": {
          "base_uri": "https://localhost:8080/"
        },
        "id": "i6J20GDJNQv_",
        "outputId": "ff46df30-2ae2-45a8-b9e8-7a5f7f10520e"
      },
      "execution_count": null,
      "outputs": [
        {
          "output_type": "stream",
          "name": "stdout",
          "text": [
            "2052/2052 [==============================] - 55s 25ms/step - loss: 2.5187e-04\n"
          ]
        },
        {
          "output_type": "execute_result",
          "data": {
            "text/plain": [
              "<keras.callbacks.History at 0x7f7791f6e4d0>"
            ]
          },
          "metadata": {},
          "execution_count": 32
        }
      ]
    },
    {
      "cell_type": "code",
      "source": [
        "df4 = web.DataReader(\"BTC\", data_source='yahoo', start='2020-10-01')\n",
        "df4"
      ],
      "metadata": {
        "id": "EKLBTyE4xf_K",
        "colab": {
          "base_uri": "https://localhost:8080/",
          "height": 455
        },
        "outputId": "5fff19bc-eb9e-4887-c7e5-74b5f432d211"
      },
      "execution_count": null,
      "outputs": [
        {
          "output_type": "execute_result",
          "data": {
            "text/plain": [
              "                  High         Low        Open       Close  Volume   Adj Close\n",
              "Date                                                                          \n",
              "2020-10-01  100.000000  100.000000  100.000000  100.000000       0  100.000000\n",
              "2020-10-02  100.000000  100.000000  100.000000  100.000000       0  100.000000\n",
              "2020-10-05  100.040001   99.995003  100.029999   99.995003   10725   99.995003\n",
              "2020-10-06  100.029999  100.010002  100.010002  100.029999   10080  100.029999\n",
              "2020-10-07   99.959999   99.919998   99.949997   99.919998    6350   99.919998\n",
              "...                ...         ...         ...         ...     ...         ...\n",
              "2022-06-23   92.597603   92.597603   92.597603   92.597603      90   92.597603\n",
              "2022-06-24   92.599998   92.544998   92.599998   92.544998     270   92.544998\n",
              "2022-06-27   92.397003   92.317001   92.397003   92.317001     366   92.317001\n",
              "2022-06-28   92.214500   92.214500   92.214500   92.214500       7   92.214500\n",
              "2022-06-29   92.500000   92.429901   92.430000   92.500000     487   92.500000\n",
              "\n",
              "[439 rows x 6 columns]"
            ],
            "text/html": [
              "\n",
              "  <div id=\"df-2f037eb7-25af-4b27-be42-f9adf3a39534\">\n",
              "    <div class=\"colab-df-container\">\n",
              "      <div>\n",
              "<style scoped>\n",
              "    .dataframe tbody tr th:only-of-type {\n",
              "        vertical-align: middle;\n",
              "    }\n",
              "\n",
              "    .dataframe tbody tr th {\n",
              "        vertical-align: top;\n",
              "    }\n",
              "\n",
              "    .dataframe thead th {\n",
              "        text-align: right;\n",
              "    }\n",
              "</style>\n",
              "<table border=\"1\" class=\"dataframe\">\n",
              "  <thead>\n",
              "    <tr style=\"text-align: right;\">\n",
              "      <th></th>\n",
              "      <th>High</th>\n",
              "      <th>Low</th>\n",
              "      <th>Open</th>\n",
              "      <th>Close</th>\n",
              "      <th>Volume</th>\n",
              "      <th>Adj Close</th>\n",
              "    </tr>\n",
              "    <tr>\n",
              "      <th>Date</th>\n",
              "      <th></th>\n",
              "      <th></th>\n",
              "      <th></th>\n",
              "      <th></th>\n",
              "      <th></th>\n",
              "      <th></th>\n",
              "    </tr>\n",
              "  </thead>\n",
              "  <tbody>\n",
              "    <tr>\n",
              "      <th>2020-10-01</th>\n",
              "      <td>100.000000</td>\n",
              "      <td>100.000000</td>\n",
              "      <td>100.000000</td>\n",
              "      <td>100.000000</td>\n",
              "      <td>0</td>\n",
              "      <td>100.000000</td>\n",
              "    </tr>\n",
              "    <tr>\n",
              "      <th>2020-10-02</th>\n",
              "      <td>100.000000</td>\n",
              "      <td>100.000000</td>\n",
              "      <td>100.000000</td>\n",
              "      <td>100.000000</td>\n",
              "      <td>0</td>\n",
              "      <td>100.000000</td>\n",
              "    </tr>\n",
              "    <tr>\n",
              "      <th>2020-10-05</th>\n",
              "      <td>100.040001</td>\n",
              "      <td>99.995003</td>\n",
              "      <td>100.029999</td>\n",
              "      <td>99.995003</td>\n",
              "      <td>10725</td>\n",
              "      <td>99.995003</td>\n",
              "    </tr>\n",
              "    <tr>\n",
              "      <th>2020-10-06</th>\n",
              "      <td>100.029999</td>\n",
              "      <td>100.010002</td>\n",
              "      <td>100.010002</td>\n",
              "      <td>100.029999</td>\n",
              "      <td>10080</td>\n",
              "      <td>100.029999</td>\n",
              "    </tr>\n",
              "    <tr>\n",
              "      <th>2020-10-07</th>\n",
              "      <td>99.959999</td>\n",
              "      <td>99.919998</td>\n",
              "      <td>99.949997</td>\n",
              "      <td>99.919998</td>\n",
              "      <td>6350</td>\n",
              "      <td>99.919998</td>\n",
              "    </tr>\n",
              "    <tr>\n",
              "      <th>...</th>\n",
              "      <td>...</td>\n",
              "      <td>...</td>\n",
              "      <td>...</td>\n",
              "      <td>...</td>\n",
              "      <td>...</td>\n",
              "      <td>...</td>\n",
              "    </tr>\n",
              "    <tr>\n",
              "      <th>2022-06-23</th>\n",
              "      <td>92.597603</td>\n",
              "      <td>92.597603</td>\n",
              "      <td>92.597603</td>\n",
              "      <td>92.597603</td>\n",
              "      <td>90</td>\n",
              "      <td>92.597603</td>\n",
              "    </tr>\n",
              "    <tr>\n",
              "      <th>2022-06-24</th>\n",
              "      <td>92.599998</td>\n",
              "      <td>92.544998</td>\n",
              "      <td>92.599998</td>\n",
              "      <td>92.544998</td>\n",
              "      <td>270</td>\n",
              "      <td>92.544998</td>\n",
              "    </tr>\n",
              "    <tr>\n",
              "      <th>2022-06-27</th>\n",
              "      <td>92.397003</td>\n",
              "      <td>92.317001</td>\n",
              "      <td>92.397003</td>\n",
              "      <td>92.317001</td>\n",
              "      <td>366</td>\n",
              "      <td>92.317001</td>\n",
              "    </tr>\n",
              "    <tr>\n",
              "      <th>2022-06-28</th>\n",
              "      <td>92.214500</td>\n",
              "      <td>92.214500</td>\n",
              "      <td>92.214500</td>\n",
              "      <td>92.214500</td>\n",
              "      <td>7</td>\n",
              "      <td>92.214500</td>\n",
              "    </tr>\n",
              "    <tr>\n",
              "      <th>2022-06-29</th>\n",
              "      <td>92.500000</td>\n",
              "      <td>92.429901</td>\n",
              "      <td>92.430000</td>\n",
              "      <td>92.500000</td>\n",
              "      <td>487</td>\n",
              "      <td>92.500000</td>\n",
              "    </tr>\n",
              "  </tbody>\n",
              "</table>\n",
              "<p>439 rows × 6 columns</p>\n",
              "</div>\n",
              "      <button class=\"colab-df-convert\" onclick=\"convertToInteractive('df-2f037eb7-25af-4b27-be42-f9adf3a39534')\"\n",
              "              title=\"Convert this dataframe to an interactive table.\"\n",
              "              style=\"display:none;\">\n",
              "        \n",
              "  <svg xmlns=\"http://www.w3.org/2000/svg\" height=\"24px\"viewBox=\"0 0 24 24\"\n",
              "       width=\"24px\">\n",
              "    <path d=\"M0 0h24v24H0V0z\" fill=\"none\"/>\n",
              "    <path d=\"M18.56 5.44l.94 2.06.94-2.06 2.06-.94-2.06-.94-.94-2.06-.94 2.06-2.06.94zm-11 1L8.5 8.5l.94-2.06 2.06-.94-2.06-.94L8.5 2.5l-.94 2.06-2.06.94zm10 10l.94 2.06.94-2.06 2.06-.94-2.06-.94-.94-2.06-.94 2.06-2.06.94z\"/><path d=\"M17.41 7.96l-1.37-1.37c-.4-.4-.92-.59-1.43-.59-.52 0-1.04.2-1.43.59L10.3 9.45l-7.72 7.72c-.78.78-.78 2.05 0 2.83L4 21.41c.39.39.9.59 1.41.59.51 0 1.02-.2 1.41-.59l7.78-7.78 2.81-2.81c.8-.78.8-2.07 0-2.86zM5.41 20L4 18.59l7.72-7.72 1.47 1.35L5.41 20z\"/>\n",
              "  </svg>\n",
              "      </button>\n",
              "      \n",
              "  <style>\n",
              "    .colab-df-container {\n",
              "      display:flex;\n",
              "      flex-wrap:wrap;\n",
              "      gap: 12px;\n",
              "    }\n",
              "\n",
              "    .colab-df-convert {\n",
              "      background-color: #E8F0FE;\n",
              "      border: none;\n",
              "      border-radius: 50%;\n",
              "      cursor: pointer;\n",
              "      display: none;\n",
              "      fill: #1967D2;\n",
              "      height: 32px;\n",
              "      padding: 0 0 0 0;\n",
              "      width: 32px;\n",
              "    }\n",
              "\n",
              "    .colab-df-convert:hover {\n",
              "      background-color: #E2EBFA;\n",
              "      box-shadow: 0px 1px 2px rgba(60, 64, 67, 0.3), 0px 1px 3px 1px rgba(60, 64, 67, 0.15);\n",
              "      fill: #174EA6;\n",
              "    }\n",
              "\n",
              "    [theme=dark] .colab-df-convert {\n",
              "      background-color: #3B4455;\n",
              "      fill: #D2E3FC;\n",
              "    }\n",
              "\n",
              "    [theme=dark] .colab-df-convert:hover {\n",
              "      background-color: #434B5C;\n",
              "      box-shadow: 0px 1px 3px 1px rgba(0, 0, 0, 0.15);\n",
              "      filter: drop-shadow(0px 1px 2px rgba(0, 0, 0, 0.3));\n",
              "      fill: #FFFFFF;\n",
              "    }\n",
              "  </style>\n",
              "\n",
              "      <script>\n",
              "        const buttonEl =\n",
              "          document.querySelector('#df-2f037eb7-25af-4b27-be42-f9adf3a39534 button.colab-df-convert');\n",
              "        buttonEl.style.display =\n",
              "          google.colab.kernel.accessAllowed ? 'block' : 'none';\n",
              "\n",
              "        async function convertToInteractive(key) {\n",
              "          const element = document.querySelector('#df-2f037eb7-25af-4b27-be42-f9adf3a39534');\n",
              "          const dataTable =\n",
              "            await google.colab.kernel.invokeFunction('convertToInteractive',\n",
              "                                                     [key], {});\n",
              "          if (!dataTable) return;\n",
              "\n",
              "          const docLinkHtml = 'Like what you see? Visit the ' +\n",
              "            '<a target=\"_blank\" href=https://colab.research.google.com/notebooks/data_table.ipynb>data table notebook</a>'\n",
              "            + ' to learn more about interactive tables.';\n",
              "          element.innerHTML = '';\n",
              "          dataTable['output_type'] = 'display_data';\n",
              "          await google.colab.output.renderOutput(dataTable, element);\n",
              "          const docLink = document.createElement('div');\n",
              "          docLink.innerHTML = docLinkHtml;\n",
              "          element.appendChild(docLink);\n",
              "        }\n",
              "      </script>\n",
              "    </div>\n",
              "  </div>\n",
              "  "
            ]
          },
          "metadata": {},
          "execution_count": 33
        }
      ]
    },
    {
      "cell_type": "code",
      "source": [
        "n4 = df4.shape[0]\n"
      ],
      "metadata": {
        "id": "5ILI92VZxhRR"
      },
      "execution_count": null,
      "outputs": []
    },
    {
      "cell_type": "code",
      "source": [
        "import math\n",
        "data4 = df4.filter([\"Close\"])\n",
        "dataset4 = data4.values\n",
        "tr_dat_len4 = math.ceil(len(dataset4)*0.8)\n",
        "tr_dat_len4"
      ],
      "metadata": {
        "colab": {
          "base_uri": "https://localhost:8080/"
        },
        "id": "YRpeE2mzYG1G",
        "outputId": "e70c009a-87d6-47c1-c6bf-51fbc6c445ab"
      },
      "execution_count": null,
      "outputs": [
        {
          "output_type": "execute_result",
          "data": {
            "text/plain": [
              "352"
            ]
          },
          "metadata": {},
          "execution_count": 35
        }
      ]
    },
    {
      "cell_type": "code",
      "source": [
        "from sklearn.preprocessing import MinMaxScaler\n",
        "\n",
        "sc4 = MinMaxScaler(feature_range=(0,1))\n",
        "sc_data4 = sc4.fit_transform(dataset4)\n",
        "\n",
        "sc_data4"
      ],
      "metadata": {
        "id": "gUVTp2rGYUF_",
        "colab": {
          "base_uri": "https://localhost:8080/"
        },
        "outputId": "fb6cbcf2-9038-4380-f6ca-a33635a6ac7b"
      },
      "execution_count": null,
      "outputs": [
        {
          "output_type": "execute_result",
          "data": {
            "text/plain": [
              "array([[0.98273302],\n",
              "       [0.98273302],\n",
              "       [0.98217632],\n",
              "       [0.98607491],\n",
              "       [0.97382076],\n",
              "       [0.98217632],\n",
              "       [0.97604925],\n",
              "       [0.97604925],\n",
              "       [0.97883359],\n",
              "       [0.97994783],\n",
              "       [0.97660595],\n",
              "       [0.9743783 ],\n",
              "       [0.97047887],\n",
              "       [0.96569977],\n",
              "       [0.96316021],\n",
              "       [0.95488283],\n",
              "       [0.95933897],\n",
              "       [0.96713698],\n",
              "       [0.97326406],\n",
              "       [0.96992217],\n",
              "       [0.95711048],\n",
              "       [0.94930141],\n",
              "       [0.94958018],\n",
              "       [0.94541387],\n",
              "       [0.97992573],\n",
              "       [0.98258853],\n",
              "       [0.97212772],\n",
              "       [0.95447062],\n",
              "       [0.94262868],\n",
              "       [0.94433277],\n",
              "       [0.95756773],\n",
              "       [0.95717762],\n",
              "       [0.95711048],\n",
              "       [0.96602274],\n",
              "       [0.96602274],\n",
              "       [0.97047887],\n",
              "       [0.97326406],\n",
              "       [0.96992217],\n",
              "       [0.96992217],\n",
              "       [0.97270736],\n",
              "       [0.98161878],\n",
              "       [0.98774585],\n",
              "       [0.97165941],\n",
              "       [0.96880793],\n",
              "       [0.97994783],\n",
              "       [0.96722623],\n",
              "       [0.97772019],\n",
              "       [0.97939113],\n",
              "       [0.96658029],\n",
              "       [0.974935  ],\n",
              "       [0.98452635],\n",
              "       [0.98217632],\n",
              "       [0.98328972],\n",
              "       [0.98328972],\n",
              "       [0.98217632],\n",
              "       [0.98106208],\n",
              "       [0.97828794],\n",
              "       [0.98607491],\n",
              "       [0.98162982],\n",
              "       [0.98570774],\n",
              "       [0.98975166],\n",
              "       [0.98997434],\n",
              "       [0.99438543],\n",
              "       [1.        ],\n",
              "       [0.99642439],\n",
              "       [0.9883034 ],\n",
              "       [0.96876373],\n",
              "       [0.96197882],\n",
              "       [0.95209765],\n",
              "       [0.94541387],\n",
              "       [0.94538073],\n",
              "       [0.95565116],\n",
              "       [0.95232032],\n",
              "       [0.96131078],\n",
              "       [0.9643518 ],\n",
              "       [0.96442999],\n",
              "       [0.95989566],\n",
              "       [0.96434075],\n",
              "       [0.97350884],\n",
              "       [0.97326406],\n",
              "       [0.9711809 ],\n",
              "       [0.96656839],\n",
              "       [0.96594455],\n",
              "       [0.96836257],\n",
              "       [0.96152241],\n",
              "       [0.95655378],\n",
              "       [0.95878227],\n",
              "       [0.95617471],\n",
              "       [0.95515056],\n",
              "       [0.95878227],\n",
              "       [0.96840677],\n",
              "       [0.96770473],\n",
              "       [0.95873722],\n",
              "       [0.93027424],\n",
              "       [0.93427397],\n",
              "       [0.93650161],\n",
              "       [0.92201982],\n",
              "       [0.91087991],\n",
              "       [0.91575931],\n",
              "       [0.91192702],\n",
              "       [0.84383821],\n",
              "       [0.8694497 ],\n",
              "       [0.8833187 ],\n",
              "       [0.89138444],\n",
              "       [0.8726471 ],\n",
              "       [0.8540653 ],\n",
              "       [0.84459633],\n",
              "       [0.81902988],\n",
              "       [0.829557  ],\n",
              "       [0.8422786 ],\n",
              "       [0.85369728],\n",
              "       [0.82594738],\n",
              "       [0.82881077],\n",
              "       [0.8300474 ],\n",
              "       [0.83807915],\n",
              "       [0.81449556],\n",
              "       [0.81310339],\n",
              "       [0.82287322],\n",
              "       [0.83654164],\n",
              "       [0.84078614],\n",
              "       [0.84145418],\n",
              "       [0.83067124],\n",
              "       [0.81970897],\n",
              "       [0.81705807],\n",
              "       [0.81725865],\n",
              "       [0.83178464],\n",
              "       [0.81821651],\n",
              "       [0.83912625],\n",
              "       [0.84031869],\n",
              "       [0.85072341],\n",
              "       [0.84411698],\n",
              "       [0.83893672],\n",
              "       [0.85160308],\n",
              "       [0.85026615],\n",
              "       [0.87225699],\n",
              "       [0.89859177],\n",
              "       [0.88260562],\n",
              "       [0.87624481],\n",
              "       [0.86804563],\n",
              "       [0.87144362],\n",
              "       [0.86910463],\n",
              "       [0.86799039],\n",
              "       [0.85268418],\n",
              "       [0.85867696],\n",
              "       [0.85517954],\n",
              "       [0.85899993],\n",
              "       [0.865161  ],\n",
              "       [0.86966133],\n",
              "       [0.87801605],\n",
              "       [0.87968699],\n",
              "       [0.88776378],\n",
              "       [0.88358643],\n",
              "       [0.88358643],\n",
              "       [0.88358643],\n",
              "       [0.88358643],\n",
              "       [0.88358643],\n",
              "       [0.88358643],\n",
              "       [0.88358643],\n",
              "       [0.88358643],\n",
              "       [0.88358643],\n",
              "       [0.88358643],\n",
              "       [0.88358643],\n",
              "       [0.88358643],\n",
              "       [0.88358643],\n",
              "       [0.88358643],\n",
              "       [0.88358643],\n",
              "       [0.88358643],\n",
              "       [0.88358643],\n",
              "       [0.88358643],\n",
              "       [0.88358643],\n",
              "       [0.88358643],\n",
              "       [0.88358643],\n",
              "       [0.88358643],\n",
              "       [0.88358643],\n",
              "       [0.88358643],\n",
              "       [0.88358643],\n",
              "       [0.88358643],\n",
              "       [0.88358643],\n",
              "       [0.88358643],\n",
              "       [0.88358643],\n",
              "       [0.88358643],\n",
              "       [0.88358643],\n",
              "       [0.88358643],\n",
              "       [0.88358643],\n",
              "       [0.88358643],\n",
              "       [0.88358643],\n",
              "       [0.88358643],\n",
              "       [0.88358643],\n",
              "       [0.88358643],\n",
              "       [0.88358643],\n",
              "       [0.88358643],\n",
              "       [0.88358643],\n",
              "       [0.88358643],\n",
              "       [0.88358643],\n",
              "       [0.88358643],\n",
              "       [0.88358643],\n",
              "       [0.88358643],\n",
              "       [0.88358643],\n",
              "       [0.88358643],\n",
              "       [0.94377608],\n",
              "       [0.95013688],\n",
              "       [0.93241349],\n",
              "       [0.9424281 ],\n",
              "       [0.94274002],\n",
              "       [0.94402085],\n",
              "       [0.95102845],\n",
              "       [0.95543953],\n",
              "       [0.94972467],\n",
              "       [0.95785756],\n",
              "       [0.97170446],\n",
              "       [0.97211667],\n",
              "       [0.96564452],\n",
              "       [0.95321189],\n",
              "       [0.93354984],\n",
              "       [0.92451518],\n",
              "       [0.91470031],\n",
              "       [0.92361257],\n",
              "       [0.92090557],\n",
              "       [0.93622284],\n",
              "       [0.94369788],\n",
              "       [0.93817255],\n",
              "       [0.93260303],\n",
              "       [0.9387301 ],\n",
              "       [0.93478647],\n",
              "       [0.93741527],\n",
              "       [0.93093208],\n",
              "       [0.92090557],\n",
              "       [0.92240993],\n",
              "       [0.93665799],\n",
              "       [0.94764151],\n",
              "       [0.94875576],\n",
              "       [0.94708482],\n",
              "       [0.95156305],\n",
              "       [0.94819906],\n",
              "       [0.93317077],\n",
              "       [0.9392868 ],\n",
              "       [0.95209765],\n",
              "       [0.94207199],\n",
              "       [0.9398435 ],\n",
              "       [0.95321189],\n",
              "       [0.94485718],\n",
              "       [0.93594491],\n",
              "       [0.92313321],\n",
              "       [0.94095774],\n",
              "       [0.93705831],\n",
              "       [0.93260303],\n",
              "       [0.90416214],\n",
              "       [0.89249869],\n",
              "       [0.89138444],\n",
              "       [0.86743284],\n",
              "       [0.86965028],\n",
              "       [0.87355992],\n",
              "       [0.89138444],\n",
              "       [0.88804256],\n",
              "       [0.8785736 ],\n",
              "       [0.87801605],\n",
              "       [0.86186331],\n",
              "       [0.85573624],\n",
              "       [0.84063061],\n",
              "       [0.85183681],\n",
              "       [0.85317373],\n",
              "       [0.8646485 ],\n",
              "       [0.84626728],\n",
              "       [0.83456983],\n",
              "       [0.82621511],\n",
              "       [0.83507128],\n",
              "       [0.81284671],\n",
              "       [0.81694673],\n",
              "       [0.82342992],\n",
              "       [0.83011369],\n",
              "       [0.84570973],\n",
              "       [0.83234218],\n",
              "       [0.83575121],\n",
              "       [0.82868838],\n",
              "       [0.84348209],\n",
              "       [0.83735501],\n",
              "       [0.86131767],\n",
              "       [0.88358643],\n",
              "       [0.86297756],\n",
              "       [0.87846226],\n",
              "       [0.83791171],\n",
              "       [0.82510086],\n",
              "       [0.83059305],\n",
              "       [0.81642318],\n",
              "       [0.81006153],\n",
              "       [0.81897379],\n",
              "       [0.82454417],\n",
              "       [0.82732936],\n",
              "       [0.79000936],\n",
              "       [0.77914823],\n",
              "       [0.7805404 ],\n",
              "       [0.82097875],\n",
              "       [0.82287322],\n",
              "       [0.83128403],\n",
              "       [0.82818692],\n",
              "       [0.82482209],\n",
              "       [0.8454981 ],\n",
              "       [0.82621511],\n",
              "       [0.81674615],\n",
              "       [0.80950483],\n",
              "       [0.81215658],\n",
              "       [0.81674615],\n",
              "       [0.83067124],\n",
              "       [0.82064473],\n",
              "       [0.80934929],\n",
              "       [0.83247562],\n",
              "       [0.83122794],\n",
              "       [0.83178464],\n",
              "       [0.8156319 ],\n",
              "       [0.82585814],\n",
              "       [0.82027757],\n",
              "       [0.82120228],\n",
              "       [0.82565756],\n",
              "       [0.81396096],\n",
              "       [0.82782996],\n",
              "       [0.82510086],\n",
              "       [0.7927614 ],\n",
              "       [0.79240443],\n",
              "       [0.77067027],\n",
              "       [0.75826059],\n",
              "       [0.74818988],\n",
              "       [0.7426756 ],\n",
              "       [0.75127594],\n",
              "       [0.75101927],\n",
              "       [0.75892862],\n",
              "       [0.7304104 ],\n",
              "       [0.69428284],\n",
              "       [0.70358522],\n",
              "       [0.70452098],\n",
              "       [0.72539757],\n",
              "       [0.72764731],\n",
              "       [0.71889143],\n",
              "       [0.68635139],\n",
              "       [0.68306474],\n",
              "       [0.69443923],\n",
              "       [0.69502907],\n",
              "       [0.69309125],\n",
              "       [0.70135673],\n",
              "       [0.6830537 ],\n",
              "       [0.64017607],\n",
              "       [0.64501042],\n",
              "       [0.62933619],\n",
              "       [0.63237805],\n",
              "       [0.56874537],\n",
              "       [0.61348432],\n",
              "       [0.5843975 ],\n",
              "       [0.57667768],\n",
              "       [0.5854888 ],\n",
              "       [0.60031651],\n",
              "       [0.60868313],\n",
              "       [0.59549321],\n",
              "       [0.58062131],\n",
              "       [0.59078041],\n",
              "       [0.59227372],\n",
              "       [0.64174672],\n",
              "       [0.68107083],\n",
              "       [0.62080299],\n",
              "       [0.62555999],\n",
              "       [0.6548134 ],\n",
              "       [0.62823384],\n",
              "       [0.58893098],\n",
              "       [0.5663061 ],\n",
              "       [0.546599  ],\n",
              "       [0.54048298],\n",
              "       [0.4880361 ],\n",
              "       [0.48597504],\n",
              "       [0.47984797],\n",
              "       [0.49254747],\n",
              "       [0.50389901],\n",
              "       [0.44257301],\n",
              "       [0.42539528],\n",
              "       [0.44952451],\n",
              "       [0.43536569],\n",
              "       [0.38349761],\n",
              "       [0.38631594],\n",
              "       [0.38640519],\n",
              "       [0.40781638],\n",
              "       [0.41141409],\n",
              "       [0.37114317],\n",
              "       [0.38228307],\n",
              "       [0.33270978],\n",
              "       [0.32546845],\n",
              "       [0.32271726],\n",
              "       [0.29930026],\n",
              "       [0.27907046],\n",
              "       [0.31781577],\n",
              "       [0.32052277],\n",
              "       [0.28257893],\n",
              "       [0.2770094 ],\n",
              "       [0.23360738],\n",
              "       [0.24748827],\n",
              "       [0.22846111],\n",
              "       [0.22116369],\n",
              "       [0.2530578 ],\n",
              "       [0.27874749],\n",
              "       [0.26028807],\n",
              "       [0.24780019],\n",
              "       [0.22951926],\n",
              "       [0.19051812],\n",
              "       [0.19682283],\n",
              "       [0.23375271],\n",
              "       [0.19852777],\n",
              "       [0.17953375],\n",
              "       [0.21192931],\n",
              "       [0.22428375],\n",
              "       [0.23746176],\n",
              "       [0.25636654],\n",
              "       [0.23690507],\n",
              "       [0.25584299],\n",
              "       [0.21292032],\n",
              "       [0.23022129],\n",
              "       [0.25242291],\n",
              "       [0.27083728],\n",
              "       [0.24971591],\n",
              "       [0.29342986],\n",
              "       [0.31520822],\n",
              "       [0.32435421],\n",
              "       [0.32992459],\n",
              "       [0.29121327],\n",
              "       [0.25807148],\n",
              "       [0.26364101],\n",
              "       [0.2535482 ],\n",
              "       [0.22510732],\n",
              "       [0.23834228],\n",
              "       [0.22242328],\n",
              "       [0.20849818],\n",
              "       [0.13971924],\n",
              "       [0.03883456],\n",
              "       [0.        ],\n",
              "       [0.07593102],\n",
              "       [0.09989367],\n",
              "       [0.09573841],\n",
              "       [0.08094385],\n",
              "       [0.13549683],\n",
              "       [0.15810046],\n",
              "       [0.15224026],\n",
              "       [0.12684125],\n",
              "       [0.11542257],\n",
              "       [0.14722743]])"
            ]
          },
          "metadata": {},
          "execution_count": 36
        }
      ]
    },
    {
      "cell_type": "code",
      "source": [
        "train_data4 = sc_data4[0:tr_dat_len4, :]\n",
        "x_train4 = []\n",
        "y_train4 = []\n",
        "\n",
        "for i4 in range(60, len(train_data4)):\n",
        "  x_train4.append(train_data4[i4-60:i4, 0])\n",
        "  y_train4.append(train_data4[i4, 0])\n",
        "  if i4<=60:\n",
        "    print(\"x_train:\",x_train4)\n",
        "    print()\n",
        "    print(\"y_train:\", y_train4)"
      ],
      "metadata": {
        "colab": {
          "base_uri": "https://localhost:8080/"
        },
        "id": "CiY_ri1-Yi76",
        "outputId": "e6b2a2a2-ff34-4a1b-b4cd-77ad512423c0"
      },
      "execution_count": null,
      "outputs": [
        {
          "output_type": "stream",
          "name": "stdout",
          "text": [
            "x_train: [array([0.98273302, 0.98273302, 0.98217632, 0.98607491, 0.97382076,\n",
            "       0.98217632, 0.97604925, 0.97604925, 0.97883359, 0.97994783,\n",
            "       0.97660595, 0.9743783 , 0.97047887, 0.96569977, 0.96316021,\n",
            "       0.95488283, 0.95933897, 0.96713698, 0.97326406, 0.96992217,\n",
            "       0.95711048, 0.94930141, 0.94958018, 0.94541387, 0.97992573,\n",
            "       0.98258853, 0.97212772, 0.95447062, 0.94262868, 0.94433277,\n",
            "       0.95756773, 0.95717762, 0.95711048, 0.96602274, 0.96602274,\n",
            "       0.97047887, 0.97326406, 0.96992217, 0.96992217, 0.97270736,\n",
            "       0.98161878, 0.98774585, 0.97165941, 0.96880793, 0.97994783,\n",
            "       0.96722623, 0.97772019, 0.97939113, 0.96658029, 0.974935  ,\n",
            "       0.98452635, 0.98217632, 0.98328972, 0.98328972, 0.98217632,\n",
            "       0.98106208, 0.97828794, 0.98607491, 0.98162982, 0.98570774])]\n",
            "\n",
            "y_train: [0.9897516618065385]\n"
          ]
        }
      ]
    },
    {
      "cell_type": "code",
      "source": [
        "import numpy as np\n",
        "x_train4, y_train4 = np.array(x_train4), np.array(y_train4)"
      ],
      "metadata": {
        "id": "KnVkYafFY6tB"
      },
      "execution_count": null,
      "outputs": []
    },
    {
      "cell_type": "code",
      "source": [
        "x_train4 = np.reshape(x_train4, (x_train4.shape[0], x_train4.shape[1], 1)) \n",
        "x_train4.shape"
      ],
      "metadata": {
        "colab": {
          "base_uri": "https://localhost:8080/"
        },
        "id": "5_P_aLmPZIOh",
        "outputId": "20c07def-7ae4-4e87-a134-6305957d8373"
      },
      "execution_count": null,
      "outputs": [
        {
          "output_type": "execute_result",
          "data": {
            "text/plain": [
              "(292, 60, 1)"
            ]
          },
          "metadata": {},
          "execution_count": 39
        }
      ]
    },
    {
      "cell_type": "code",
      "source": [
        "from keras.models import Sequential\n",
        "from keras.layers import Dense\n",
        "from keras.layers import LSTM\n",
        "\n",
        "model4 = Sequential()\n",
        "model4.add(LSTM(50, return_sequences= True))\n",
        "model4.add(LSTM(50, return_sequences= False))\n",
        "model4.add(Dense(25))\n",
        "model4.add(Dense(1))"
      ],
      "metadata": {
        "id": "bqe2fYtMZVjX"
      },
      "execution_count": null,
      "outputs": []
    },
    {
      "cell_type": "code",
      "source": [
        "model4.compile(optimizer='adam', loss='mean_squared_error')"
      ],
      "metadata": {
        "id": "jno9YX0DZfB4"
      },
      "execution_count": null,
      "outputs": []
    },
    {
      "cell_type": "code",
      "source": [
        "model4.fit(x_train4, y_train4, batch_size=1, epochs=1)"
      ],
      "metadata": {
        "colab": {
          "base_uri": "https://localhost:8080/"
        },
        "id": "sJDReXinZkSD",
        "outputId": "28c739bd-20ba-49a3-eaa9-8b9f1f027492"
      },
      "execution_count": null,
      "outputs": [
        {
          "output_type": "stream",
          "name": "stdout",
          "text": [
            "292/292 [==============================] - 11s 25ms/step - loss: 0.0134\n"
          ]
        },
        {
          "output_type": "execute_result",
          "data": {
            "text/plain": [
              "<keras.callbacks.History at 0x7f7795229b50>"
            ]
          },
          "metadata": {},
          "execution_count": 42
        }
      ]
    },
    {
      "cell_type": "code",
      "source": [
        "df5 = web.DataReader(\"DOGE-USD\", data_source='yahoo', start='2017-11-09')\n",
        "df5"
      ],
      "metadata": {
        "id": "MMRnW0x5yY_c",
        "colab": {
          "base_uri": "https://localhost:8080/",
          "height": 455
        },
        "outputId": "48453088-b8d7-4297-dacf-5885373df623"
      },
      "execution_count": null,
      "outputs": [
        {
          "output_type": "execute_result",
          "data": {
            "text/plain": [
              "                High       Low      Open     Close     Volume  Adj Close\n",
              "Date                                                                    \n",
              "2017-11-09  0.001415  0.001181  0.001207  0.001415    6259550   0.001415\n",
              "2017-11-10  0.001431  0.001125  0.001421  0.001163    4246520   0.001163\n",
              "2017-11-11  0.001257  0.001141  0.001146  0.001201    2231080   0.001201\n",
              "2017-11-12  0.001210  0.001002  0.001189  0.001038    3288960   0.001038\n",
              "2017-11-13  0.001212  0.001019  0.001046  0.001211    2481270   0.001211\n",
              "...              ...       ...       ...       ...        ...        ...\n",
              "2022-06-26  0.076966  0.067504  0.068488  0.073177  883689355   0.073177\n",
              "2022-06-27  0.078389  0.071018  0.073154  0.072239  962250061   0.072239\n",
              "2022-06-28  0.072951  0.065723  0.072221  0.065957  534793983   0.065957\n",
              "2022-06-29  0.071335  0.064635  0.065996  0.069468  592828738   0.069468\n",
              "2022-06-30  0.069481  0.063348  0.069481  0.063364  618041472   0.063364\n",
              "\n",
              "[1695 rows x 6 columns]"
            ],
            "text/html": [
              "\n",
              "  <div id=\"df-27d5e5e2-98ab-4a7f-ae22-809c41db6700\">\n",
              "    <div class=\"colab-df-container\">\n",
              "      <div>\n",
              "<style scoped>\n",
              "    .dataframe tbody tr th:only-of-type {\n",
              "        vertical-align: middle;\n",
              "    }\n",
              "\n",
              "    .dataframe tbody tr th {\n",
              "        vertical-align: top;\n",
              "    }\n",
              "\n",
              "    .dataframe thead th {\n",
              "        text-align: right;\n",
              "    }\n",
              "</style>\n",
              "<table border=\"1\" class=\"dataframe\">\n",
              "  <thead>\n",
              "    <tr style=\"text-align: right;\">\n",
              "      <th></th>\n",
              "      <th>High</th>\n",
              "      <th>Low</th>\n",
              "      <th>Open</th>\n",
              "      <th>Close</th>\n",
              "      <th>Volume</th>\n",
              "      <th>Adj Close</th>\n",
              "    </tr>\n",
              "    <tr>\n",
              "      <th>Date</th>\n",
              "      <th></th>\n",
              "      <th></th>\n",
              "      <th></th>\n",
              "      <th></th>\n",
              "      <th></th>\n",
              "      <th></th>\n",
              "    </tr>\n",
              "  </thead>\n",
              "  <tbody>\n",
              "    <tr>\n",
              "      <th>2017-11-09</th>\n",
              "      <td>0.001415</td>\n",
              "      <td>0.001181</td>\n",
              "      <td>0.001207</td>\n",
              "      <td>0.001415</td>\n",
              "      <td>6259550</td>\n",
              "      <td>0.001415</td>\n",
              "    </tr>\n",
              "    <tr>\n",
              "      <th>2017-11-10</th>\n",
              "      <td>0.001431</td>\n",
              "      <td>0.001125</td>\n",
              "      <td>0.001421</td>\n",
              "      <td>0.001163</td>\n",
              "      <td>4246520</td>\n",
              "      <td>0.001163</td>\n",
              "    </tr>\n",
              "    <tr>\n",
              "      <th>2017-11-11</th>\n",
              "      <td>0.001257</td>\n",
              "      <td>0.001141</td>\n",
              "      <td>0.001146</td>\n",
              "      <td>0.001201</td>\n",
              "      <td>2231080</td>\n",
              "      <td>0.001201</td>\n",
              "    </tr>\n",
              "    <tr>\n",
              "      <th>2017-11-12</th>\n",
              "      <td>0.001210</td>\n",
              "      <td>0.001002</td>\n",
              "      <td>0.001189</td>\n",
              "      <td>0.001038</td>\n",
              "      <td>3288960</td>\n",
              "      <td>0.001038</td>\n",
              "    </tr>\n",
              "    <tr>\n",
              "      <th>2017-11-13</th>\n",
              "      <td>0.001212</td>\n",
              "      <td>0.001019</td>\n",
              "      <td>0.001046</td>\n",
              "      <td>0.001211</td>\n",
              "      <td>2481270</td>\n",
              "      <td>0.001211</td>\n",
              "    </tr>\n",
              "    <tr>\n",
              "      <th>...</th>\n",
              "      <td>...</td>\n",
              "      <td>...</td>\n",
              "      <td>...</td>\n",
              "      <td>...</td>\n",
              "      <td>...</td>\n",
              "      <td>...</td>\n",
              "    </tr>\n",
              "    <tr>\n",
              "      <th>2022-06-26</th>\n",
              "      <td>0.076966</td>\n",
              "      <td>0.067504</td>\n",
              "      <td>0.068488</td>\n",
              "      <td>0.073177</td>\n",
              "      <td>883689355</td>\n",
              "      <td>0.073177</td>\n",
              "    </tr>\n",
              "    <tr>\n",
              "      <th>2022-06-27</th>\n",
              "      <td>0.078389</td>\n",
              "      <td>0.071018</td>\n",
              "      <td>0.073154</td>\n",
              "      <td>0.072239</td>\n",
              "      <td>962250061</td>\n",
              "      <td>0.072239</td>\n",
              "    </tr>\n",
              "    <tr>\n",
              "      <th>2022-06-28</th>\n",
              "      <td>0.072951</td>\n",
              "      <td>0.065723</td>\n",
              "      <td>0.072221</td>\n",
              "      <td>0.065957</td>\n",
              "      <td>534793983</td>\n",
              "      <td>0.065957</td>\n",
              "    </tr>\n",
              "    <tr>\n",
              "      <th>2022-06-29</th>\n",
              "      <td>0.071335</td>\n",
              "      <td>0.064635</td>\n",
              "      <td>0.065996</td>\n",
              "      <td>0.069468</td>\n",
              "      <td>592828738</td>\n",
              "      <td>0.069468</td>\n",
              "    </tr>\n",
              "    <tr>\n",
              "      <th>2022-06-30</th>\n",
              "      <td>0.069481</td>\n",
              "      <td>0.063348</td>\n",
              "      <td>0.069481</td>\n",
              "      <td>0.063364</td>\n",
              "      <td>618041472</td>\n",
              "      <td>0.063364</td>\n",
              "    </tr>\n",
              "  </tbody>\n",
              "</table>\n",
              "<p>1695 rows × 6 columns</p>\n",
              "</div>\n",
              "      <button class=\"colab-df-convert\" onclick=\"convertToInteractive('df-27d5e5e2-98ab-4a7f-ae22-809c41db6700')\"\n",
              "              title=\"Convert this dataframe to an interactive table.\"\n",
              "              style=\"display:none;\">\n",
              "        \n",
              "  <svg xmlns=\"http://www.w3.org/2000/svg\" height=\"24px\"viewBox=\"0 0 24 24\"\n",
              "       width=\"24px\">\n",
              "    <path d=\"M0 0h24v24H0V0z\" fill=\"none\"/>\n",
              "    <path d=\"M18.56 5.44l.94 2.06.94-2.06 2.06-.94-2.06-.94-.94-2.06-.94 2.06-2.06.94zm-11 1L8.5 8.5l.94-2.06 2.06-.94-2.06-.94L8.5 2.5l-.94 2.06-2.06.94zm10 10l.94 2.06.94-2.06 2.06-.94-2.06-.94-.94-2.06-.94 2.06-2.06.94z\"/><path d=\"M17.41 7.96l-1.37-1.37c-.4-.4-.92-.59-1.43-.59-.52 0-1.04.2-1.43.59L10.3 9.45l-7.72 7.72c-.78.78-.78 2.05 0 2.83L4 21.41c.39.39.9.59 1.41.59.51 0 1.02-.2 1.41-.59l7.78-7.78 2.81-2.81c.8-.78.8-2.07 0-2.86zM5.41 20L4 18.59l7.72-7.72 1.47 1.35L5.41 20z\"/>\n",
              "  </svg>\n",
              "      </button>\n",
              "      \n",
              "  <style>\n",
              "    .colab-df-container {\n",
              "      display:flex;\n",
              "      flex-wrap:wrap;\n",
              "      gap: 12px;\n",
              "    }\n",
              "\n",
              "    .colab-df-convert {\n",
              "      background-color: #E8F0FE;\n",
              "      border: none;\n",
              "      border-radius: 50%;\n",
              "      cursor: pointer;\n",
              "      display: none;\n",
              "      fill: #1967D2;\n",
              "      height: 32px;\n",
              "      padding: 0 0 0 0;\n",
              "      width: 32px;\n",
              "    }\n",
              "\n",
              "    .colab-df-convert:hover {\n",
              "      background-color: #E2EBFA;\n",
              "      box-shadow: 0px 1px 2px rgba(60, 64, 67, 0.3), 0px 1px 3px 1px rgba(60, 64, 67, 0.15);\n",
              "      fill: #174EA6;\n",
              "    }\n",
              "\n",
              "    [theme=dark] .colab-df-convert {\n",
              "      background-color: #3B4455;\n",
              "      fill: #D2E3FC;\n",
              "    }\n",
              "\n",
              "    [theme=dark] .colab-df-convert:hover {\n",
              "      background-color: #434B5C;\n",
              "      box-shadow: 0px 1px 3px 1px rgba(0, 0, 0, 0.15);\n",
              "      filter: drop-shadow(0px 1px 2px rgba(0, 0, 0, 0.3));\n",
              "      fill: #FFFFFF;\n",
              "    }\n",
              "  </style>\n",
              "\n",
              "      <script>\n",
              "        const buttonEl =\n",
              "          document.querySelector('#df-27d5e5e2-98ab-4a7f-ae22-809c41db6700 button.colab-df-convert');\n",
              "        buttonEl.style.display =\n",
              "          google.colab.kernel.accessAllowed ? 'block' : 'none';\n",
              "\n",
              "        async function convertToInteractive(key) {\n",
              "          const element = document.querySelector('#df-27d5e5e2-98ab-4a7f-ae22-809c41db6700');\n",
              "          const dataTable =\n",
              "            await google.colab.kernel.invokeFunction('convertToInteractive',\n",
              "                                                     [key], {});\n",
              "          if (!dataTable) return;\n",
              "\n",
              "          const docLinkHtml = 'Like what you see? Visit the ' +\n",
              "            '<a target=\"_blank\" href=https://colab.research.google.com/notebooks/data_table.ipynb>data table notebook</a>'\n",
              "            + ' to learn more about interactive tables.';\n",
              "          element.innerHTML = '';\n",
              "          dataTable['output_type'] = 'display_data';\n",
              "          await google.colab.output.renderOutput(dataTable, element);\n",
              "          const docLink = document.createElement('div');\n",
              "          docLink.innerHTML = docLinkHtml;\n",
              "          element.appendChild(docLink);\n",
              "        }\n",
              "      </script>\n",
              "    </div>\n",
              "  </div>\n",
              "  "
            ]
          },
          "metadata": {},
          "execution_count": 43
        }
      ]
    },
    {
      "cell_type": "code",
      "source": [
        "n5 = df5.shape[0]"
      ],
      "metadata": {
        "id": "_GYMmrN7ycMP"
      },
      "execution_count": null,
      "outputs": []
    },
    {
      "cell_type": "code",
      "source": [
        "import math\n",
        "data5 = df5.filter([\"Close\"])\n",
        "dataset5 = data5.values\n",
        "tr_dat_len5 = math.ceil(len(dataset5)*0.8)\n",
        "tr_dat_len5"
      ],
      "metadata": {
        "colab": {
          "base_uri": "https://localhost:8080/"
        },
        "id": "KRSD_jHZYG4n",
        "outputId": "82a09eb7-795a-486d-d282-66ef375a184f"
      },
      "execution_count": null,
      "outputs": [
        {
          "output_type": "execute_result",
          "data": {
            "text/plain": [
              "1356"
            ]
          },
          "metadata": {},
          "execution_count": 45
        }
      ]
    },
    {
      "cell_type": "code",
      "source": [
        "from sklearn.preprocessing import MinMaxScaler\n",
        "\n",
        "sc5 = MinMaxScaler(feature_range=(0,1))\n",
        "sc_data5 = sc5.fit_transform(dataset5)\n",
        " \n",
        "sc_data5 = dataset5"
      ],
      "metadata": {
        "id": "07or6LuuYUa1"
      },
      "execution_count": null,
      "outputs": []
    },
    {
      "cell_type": "code",
      "source": [
        "train_data5 = sc_data5[0:tr_dat_len5, :]\n",
        "x_train5 = []\n",
        "y_train5 = []\n",
        "\n",
        "for i5 in range(60, len(train_data5)):\n",
        "  x_train5.append(train_data5[i5-60:i5, 0])\n",
        "  y_train5.append(train_data5[i5, 0])\n",
        "  if i5<=60:\n",
        "    print(\"x_train:\",x_train5)\n",
        "    print()\n",
        "    print(\"y_train:\", y_train5)"
      ],
      "metadata": {
        "colab": {
          "base_uri": "https://localhost:8080/"
        },
        "id": "SxJD4ViaYi4n",
        "outputId": "94e6147f-0a1f-4bed-decc-ad38c895416f"
      },
      "execution_count": null,
      "outputs": [
        {
          "output_type": "stream",
          "name": "stdout",
          "text": [
            "x_train: [array([0.001415, 0.001163, 0.001201, 0.001038, 0.001211, 0.001184,\n",
            "       0.001339, 0.00139 , 0.001313, 0.001373, 0.001376, 0.001394,\n",
            "       0.001389, 0.001823, 0.001891, 0.001908, 0.002072, 0.002026,\n",
            "       0.001988, 0.002363, 0.00208 , 0.002079, 0.002148, 0.002149,\n",
            "       0.002223, 0.002463, 0.002479, 0.002663, 0.00272 , 0.002779,\n",
            "       0.002617, 0.002547, 0.002798, 0.003304, 0.003461, 0.003709,\n",
            "       0.003762, 0.005933, 0.005984, 0.006433, 0.005666, 0.006661,\n",
            "       0.007425, 0.006054, 0.007259, 0.008582, 0.008931, 0.009411,\n",
            "       0.008872, 0.008486, 0.009391, 0.00786 , 0.008972, 0.008909,\n",
            "       0.009145, 0.00932 , 0.009644, 0.012167, 0.014863, 0.017088])]\n",
            "\n",
            "y_train: [0.015045000240206718]\n"
          ]
        }
      ]
    },
    {
      "cell_type": "code",
      "source": [
        "import numpy as np\n",
        "x_train5, y_train5 = np.array(x_train5), np.array(y_train5)"
      ],
      "metadata": {
        "id": "Xu7LKNVfY6pg"
      },
      "execution_count": null,
      "outputs": []
    },
    {
      "cell_type": "code",
      "source": [
        "x_train5 = np.reshape(x_train5, (x_train5.shape[0], x_train5.shape[1], 1)) \n",
        "x_train5.shape"
      ],
      "metadata": {
        "colab": {
          "base_uri": "https://localhost:8080/"
        },
        "id": "Mb36P_CeZIK-",
        "outputId": "be096118-9f3f-4820-e84f-25f987166a3c"
      },
      "execution_count": null,
      "outputs": [
        {
          "output_type": "execute_result",
          "data": {
            "text/plain": [
              "(1296, 60, 1)"
            ]
          },
          "metadata": {},
          "execution_count": 49
        }
      ]
    },
    {
      "cell_type": "code",
      "source": [
        "from keras.models import Sequential\n",
        "from keras.layers import Dense\n",
        "from keras.layers import LSTM\n",
        "\n",
        "model5 = Sequential()\n",
        "model5.add(LSTM(50, return_sequences= True))\n",
        "model5.add(LSTM(50, return_sequences= False))\n",
        "model5.add(Dense(25))\n",
        "model5.add(Dense(1))"
      ],
      "metadata": {
        "id": "1r3ApDXHZVby"
      },
      "execution_count": null,
      "outputs": []
    },
    {
      "cell_type": "code",
      "source": [
        "model5.compile(optimizer='adam', loss='mean_squared_error')"
      ],
      "metadata": {
        "id": "hVcdzTKhZfFd"
      },
      "execution_count": null,
      "outputs": []
    },
    {
      "cell_type": "code",
      "source": [
        "model5.fit(x_train5, y_train5, batch_size=1, epochs=1)"
      ],
      "metadata": {
        "colab": {
          "base_uri": "https://localhost:8080/"
        },
        "id": "a2S8r8pLZkVh",
        "outputId": "34bcefad-72ab-4842-acf4-ac49eb315858"
      },
      "execution_count": null,
      "outputs": [
        {
          "output_type": "stream",
          "name": "stdout",
          "text": [
            "1296/1296 [==============================] - 37s 26ms/step - loss: 0.0015\n"
          ]
        },
        {
          "output_type": "execute_result",
          "data": {
            "text/plain": [
              "<keras.callbacks.History at 0x7f7790260b10>"
            ]
          },
          "metadata": {},
          "execution_count": 52
        }
      ]
    },
    {
      "cell_type": "code",
      "source": [
        "go_quote1 = web.DataReader('DOGE-USD', data_source='yahoo', start='2012-01-01', end = '2022-06-06')\n",
        "ndf1 = go_quote1.filter(['Close'])\n",
        "l60d1 = ndf1[-60:].values\n",
        "l60d_sc1 = sc1.transform(l60d1)\n",
        "X_test1 = []\n",
        "X_test1.append(l60d_sc1)\n",
        "X_test1 = np.array(X_test1)\n",
        "X_test1 = np.reshape(X_test1, (X_test1.shape[0], X_test1.shape[1], 1))\n",
        "pred_price1 = model5.predict(X_test1)\n",
        "pred_price1 = sc1.inverse_transform(pred_price1)\n",
        "pr = pred_price1\n",
        "pr"
      ],
      "metadata": {
        "colab": {
          "base_uri": "https://localhost:8080/"
        },
        "id": "oDgJYpDi_MCf",
        "outputId": "5286c07e-6df2-473a-fdb6-4658c317e952"
      },
      "execution_count": null,
      "outputs": [
        {
          "output_type": "execute_result",
          "data": {
            "text/plain": [
              "array([[76.883286]], dtype=float32)"
            ]
          },
          "metadata": {},
          "execution_count": 53
        }
      ]
    },
    {
      "cell_type": "code",
      "source": [
        "!pip install flask-ngrok"
      ],
      "metadata": {
        "id": "M_Qe9ZvQEfz2",
        "colab": {
          "base_uri": "https://localhost:8080/"
        },
        "outputId": "1c05eaff-7847-4fe8-9240-15416b2297f4"
      },
      "execution_count": null,
      "outputs": [
        {
          "output_type": "stream",
          "name": "stdout",
          "text": [
            "Looking in indexes: https://pypi.org/simple, https://us-python.pkg.dev/colab-wheels/public/simple/\n",
            "Collecting flask-ngrok\n",
            "  Downloading flask_ngrok-0.0.25-py3-none-any.whl (3.1 kB)\n",
            "Requirement already satisfied: requests in /usr/local/lib/python3.7/dist-packages (from flask-ngrok) (2.23.0)\n",
            "Requirement already satisfied: Flask>=0.8 in /usr/local/lib/python3.7/dist-packages (from flask-ngrok) (1.1.4)\n",
            "Requirement already satisfied: itsdangerous<2.0,>=0.24 in /usr/local/lib/python3.7/dist-packages (from Flask>=0.8->flask-ngrok) (1.1.0)\n",
            "Requirement already satisfied: click<8.0,>=5.1 in /usr/local/lib/python3.7/dist-packages (from Flask>=0.8->flask-ngrok) (7.1.2)\n",
            "Requirement already satisfied: Werkzeug<2.0,>=0.15 in /usr/local/lib/python3.7/dist-packages (from Flask>=0.8->flask-ngrok) (1.0.1)\n",
            "Requirement already satisfied: Jinja2<3.0,>=2.10.1 in /usr/local/lib/python3.7/dist-packages (from Flask>=0.8->flask-ngrok) (2.11.3)\n",
            "Requirement already satisfied: MarkupSafe>=0.23 in /usr/local/lib/python3.7/dist-packages (from Jinja2<3.0,>=2.10.1->Flask>=0.8->flask-ngrok) (2.0.1)\n",
            "Requirement already satisfied: idna<3,>=2.5 in /usr/local/lib/python3.7/dist-packages (from requests->flask-ngrok) (2.10)\n",
            "Requirement already satisfied: urllib3!=1.25.0,!=1.25.1,<1.26,>=1.21.1 in /usr/local/lib/python3.7/dist-packages (from requests->flask-ngrok) (1.24.3)\n",
            "Requirement already satisfied: chardet<4,>=3.0.2 in /usr/local/lib/python3.7/dist-packages (from requests->flask-ngrok) (3.0.4)\n",
            "Requirement already satisfied: certifi>=2017.4.17 in /usr/local/lib/python3.7/dist-packages (from requests->flask-ngrok) (2022.6.15)\n",
            "Installing collected packages: flask-ngrok\n",
            "Successfully installed flask-ngrok-0.0.25\n"
          ]
        }
      ]
    },
    {
      "cell_type": "code",
      "source": [
        "!pip install pyngrok==4.1.1"
      ],
      "metadata": {
        "id": "zez4lIYZEkij",
        "colab": {
          "base_uri": "https://localhost:8080/"
        },
        "outputId": "33942939-a236-4db1-97cc-9a46411039b2"
      },
      "execution_count": null,
      "outputs": [
        {
          "output_type": "stream",
          "name": "stdout",
          "text": [
            "Looking in indexes: https://pypi.org/simple, https://us-python.pkg.dev/colab-wheels/public/simple/\n",
            "Collecting pyngrok==4.1.1\n",
            "  Downloading pyngrok-4.1.1.tar.gz (18 kB)\n",
            "Requirement already satisfied: future in /usr/local/lib/python3.7/dist-packages (from pyngrok==4.1.1) (0.16.0)\n",
            "Requirement already satisfied: PyYAML in /usr/local/lib/python3.7/dist-packages (from pyngrok==4.1.1) (3.13)\n",
            "Building wheels for collected packages: pyngrok\n",
            "  Building wheel for pyngrok (setup.py) ... \u001b[?25l\u001b[?25hdone\n",
            "  Created wheel for pyngrok: filename=pyngrok-4.1.1-py3-none-any.whl size=15983 sha256=ed680b36065c09163399f7acf621a230a6758b8b0478a00ffad0cc23e7d11d98\n",
            "  Stored in directory: /root/.cache/pip/wheels/b1/d9/12/045a042fee3127dc40ba6f5df2798aa2df38c414bf533ca765\n",
            "Successfully built pyngrok\n",
            "Installing collected packages: pyngrok\n",
            "Successfully installed pyngrok-4.1.1\n"
          ]
        }
      ]
    },
    {
      "cell_type": "code",
      "source": [
        "!ngrok authtoken 23Jg2oDy2N9PJD3njx9iWFHSfCs_3J7KXYfQXtzxHX3a5digi"
      ],
      "metadata": {
        "id": "s8VDw58CEkfH",
        "colab": {
          "base_uri": "https://localhost:8080/"
        },
        "outputId": "cfddee79-348e-479e-e6a9-ee5f682b9acc"
      },
      "execution_count": null,
      "outputs": [
        {
          "output_type": "stream",
          "name": "stdout",
          "text": [
            "Authtoken saved to configuration file: /root/.ngrok2/ngrok.yml\n"
          ]
        }
      ]
    },
    {
      "cell_type": "code",
      "source": [
        "home = '''\n",
        "<!DOCTYPE html>\n",
        "<html>\n",
        "<head>\n",
        "<style>\n",
        "body{\n",
        "\tbackground-color:AliceBlue;}\n",
        "div.topnav{\n",
        "\tbackground-color:black;\n",
        "\tfont-size:20px;\n",
        "\toverflow:hidden;\n",
        "\tpadding: 10px 20px;\n",
        "\t}\n",
        "div.topnav a{\n",
        "\tcolor:white;\n",
        "\tpadding: 10px 20px;\n",
        "\ttext-align:center;\n",
        "\ttext-decoration:none;}\n",
        "div.topnav a:hover{\n",
        "\tbackground-color:grey;}\n",
        "div.topnav a.active{\n",
        "\tbackground-color:lime;\n",
        "\tcolor:white;}\n",
        "h1{\n",
        "\tfont-family:Courier New;\n",
        "\tfont-size:40px;}\n",
        "h2{\tfont-family:Courier New;\n",
        "\ttext-align:center;\n",
        "\tfont-size:30px;}\n",
        "p{\tfont-family:Comic Sans MS;\n",
        "\tfont-size:20px;}\n",
        "</style>\n",
        "<title> HOME </title>\n",
        "<meta name=\"viewport\" content=\"width=device-width, initial-scale=1.0\">\n",
        "</head>\n",
        "<body>\n",
        "<h1> STOCK PRICE PREDICTOR </h1>\n",
        "<div class=\"topnav\">\n",
        " <a class=\"active\" href=\"/\">Home</a>\n",
        " <a href=\"/anal\">Stock-Crypto Analysis</a>\n",
        " <a href='/pred'>Predictor</a>\n",
        "</div>\n",
        "<br>\n",
        "<h2> About the project:</h2>\n",
        "<p>The stock market and crypto currency trading is profoundly present in today's world. When the stock market is performing well, it indicates in general a growing economy</p>\n",
        "<p>The main challenge to invest in stock market or crypto is the risk of losing money. We can minimize this risk by predicting the price prior to investing</p>\n",
        "<p>This project aims to provide in-depth analysis on Stocks and crypto for users to invest better</p>\n",
        "<p>You can also access our predictor to predict future prices and get suggestions on investing</p>\n",
        "<br>\n",
        "<h2> Suggested apps to invest:(Click on image to visit) </h2>\n",
        "&emsp; &emsp; &emsp; &emsp;&emsp;&emsp;&emsp;&emsp;&emsp;&emsp;&emsp;&emsp;&emsp;\n",
        "&emsp;&emsp;&emsp;&emsp; <a href=\"https://wazirx.com/\">1. WazirX</a>\n",
        "&emsp;&emsp;&emsp;<a href=\"https://coinswitch.co/\">2. Coinswitch</a>\n",
        "&emsp;&emsp;&emsp;<a href=\"https://upstox.com/\">3. Upstox</a>\n",
        "&emsp;&emsp;&emsp;<a href=\"https://groww.in/\">4.Groww</a>\n",
        "</body>\n",
        "</html>\n",
        "'''\n",
        "file = open(\"home.html\",\"w\")\n",
        "file.write(home)\n",
        "file.close()"
      ],
      "metadata": {
        "id": "ntiEXTTHPHY4"
      },
      "execution_count": null,
      "outputs": []
    },
    {
      "cell_type": "code",
      "source": [
        "pred_main = '''\n",
        "<!DOCTYPE html>\n",
        "<html>\n",
        "<head>\n",
        "<style>\n",
        "body{\n",
        "\tbackground-color:AliceBlue;}\n",
        "div.topnav{\n",
        "\tbackground-color:black;\n",
        "\tfont-size:20px;\n",
        "\toverflow:hidden;\n",
        "\tpadding: 10px 20px;\n",
        "\t}\n",
        "div.topnav a{\n",
        "\tcolor:white;\n",
        "\tpadding: 10px 20px;\n",
        "\ttext-align:center;\n",
        "\ttext-decoration:none;}\n",
        "div.topnav a:hover{\n",
        "\tbackground-color:grey;}\n",
        "div.topnav a.active{\n",
        "\tbackground-color:lime;\n",
        "\tcolor:white;}\n",
        "h1{\n",
        "\tfont-family:Courier New;\n",
        "\tfont-size:40px;}\n",
        "h2{\tfont-family:Courier New;\n",
        "\ttext-align:center;\n",
        "\tfont-size:30px;}\n",
        "p{\tfont-family:Comic Sans MS;\n",
        "\tfont-size:20px;}\n",
        "</style>\n",
        "<title> PREDICTOR </title>\n",
        "<meta name=\"viewport\" content=\"width=device-width, initial-scale=1.0\">\n",
        "</head>\n",
        "<body>\n",
        "<h1> STOCK PRICE PREDICTOR </h1>\n",
        "<div class=\"topnav\">\n",
        " <a href='/'>Home</a>\n",
        " <a href=\"/anal\">Stock-Crypto Analysis</a>\n",
        " <a class=\"active\" href='/pred'>Predictor</a>\n",
        "</div>\n",
        "<br>\n",
        "<h2> STOCK PREDICTOR</h2>\n",
        "<form action = '/pred2'>\n",
        "<p> 1. GOOGL - for Google (Stock) <br>\n",
        "2. AAPL - for Apple (Stock) <br>\n",
        "3. GLD - for Gold (Stock) <br>\n",
        "4. BTC - for Bitcoin (Crypto) <br>\n",
        "5. DOGE-COIN - (crypto) </p> <br><br>\n",
        "<p>Enter Stock/Crypto Code:</p> <input type=\"text\" name=\"txt\" id=\"txt\"><br>\n",
        "<p>Enter date to check:</p> <input type=\"text\" name=\"date\" id=\"date\"><br><br>\n",
        "<input type = \"submit\">\n",
        "</body>\n",
        "</html>\n",
        "'''\n",
        "file = open(\"pred_main.html\",\"w\")\n",
        "file.write(pred_main)\n",
        "file.close()\n"
      ],
      "metadata": {
        "id": "J3Ss2AXnEpYQ"
      },
      "execution_count": null,
      "outputs": []
    },
    {
      "cell_type": "code",
      "source": [
        "text2 = '''\n",
        "<!DOCTYPE html>\n",
        "<html>\n",
        "<head>\n",
        "<style>\n",
        "body{\n",
        "\tbackground-color:AliceBlue;}\n",
        "div.topnav{\n",
        "\tbackground-color:black;\n",
        "\tfont-size:20px;\n",
        "\toverflow:hidden;\n",
        "\tpadding: 10px 20px;\n",
        "\t}\n",
        "div.topnav a{\n",
        "\tcolor:white;\n",
        "\tpadding: 10px 20px;\n",
        "\ttext-align:center;\n",
        "\ttext-decoration:none;}\n",
        "div.topnav a:hover{\n",
        "\tbackground-color:grey;}\n",
        "div.topnav a.active{\n",
        "\tbackground-color:lime;\n",
        "\tcolor:white;}\n",
        "h1{\n",
        "\tfont-family:Courier New;\n",
        "\tfont-size:40px;}\n",
        "h2{\tfont-family:Courier New;\n",
        "\ttext-align:center;\n",
        "\tfont-size:30px;}\n",
        "p{\tfont-family:Comic Sans MS;\n",
        "\tfont-size:20px;}\n",
        "</style>\n",
        "<title> PREDICTOR </title>\n",
        "<meta name=\"viewport\" content=\"width=device-width, initial-scale=1.0\">\n",
        "</head>\n",
        "<body>\n",
        "<h1> STOCK PRICE PREDICTOR </h1>\n",
        "<div class=\"topnav\">\n",
        " <a href='/'>Home</a>\n",
        " <a href=\"/anal\">Stock-Crypto Analysis</a>\n",
        " <a class=\"active\" href='/pred'>Predictor</a>\n",
        "</div>\n",
        "<br>\n",
        "<h2> STOCK PREDICTOR</h2>\n",
        "<p> &emsp; &emsp; The predicted closing price is: <b>{{pred}}</b> </p><br><br>\n",
        "<p> &emsp; &emsp; &emsp; The highest closing price in the next 5 days is: <b>{{p1}}</b><br>\n",
        "<p> \n",
        "</body>\n",
        "</html>\n",
        "'''\n",
        "file = open(\"index2.html\",\"w\")\n",
        "file.write(text2)\n",
        "file.close()"
      ],
      "metadata": {
        "id": "2A6E3k02Gl_4"
      },
      "execution_count": null,
      "outputs": []
    },
    {
      "cell_type": "code",
      "source": [
        "anal = '''\n",
        "<!DOCTYPE html>\n",
        "<html>\n",
        "<head>\n",
        "<style>\n",
        "body{\n",
        "\tbackground-color:AliceBlue;}\n",
        "div.topnav{\n",
        "\tbackground-color:black;\n",
        "\tfont-size:20px;\n",
        "\toverflow:hidden;\n",
        "\tpadding: 10px 20px;\n",
        "\t}\n",
        "div.topnav a{\n",
        "\tcolor:white;\n",
        "\tpadding: 10px 20px;\n",
        "\ttext-align:center;\n",
        "\ttext-decoration:none;}\n",
        "div.topnav a:hover{\n",
        "\tbackground-color:grey;}\n",
        "div.topnav a.active{\n",
        "\tbackground-color:lime;\n",
        "\tcolor:white;}\n",
        "h1{\n",
        "\tfont-family:Courier New;\n",
        "\tfont-size:40px;}\n",
        "h2{\tfont-family:Courier New;\n",
        "\ttext-align:center;\n",
        "\tfont-size:30px;}\n",
        "p{\tfont-family:Comic Sans MS;\n",
        "\tfont-size:20px;}\n",
        "</style>\n",
        "<title> STOCK/CRYPTO ANALYSER </title>\n",
        "<meta name=\"viewport\" content=\"width=device-width, initial-scale=1.0\">\n",
        "</head>\n",
        "<body>\n",
        "<h1> STOCK PRICE PREDICTOR </h1>\n",
        "<div class=\"topnav\">\n",
        " <a href='/'>Home</a>\n",
        " <a class=\"active\" href=\"/anal\">Stock-Crypto Analyer</a>\n",
        " <a href='/pred'>Predictor</a>\n",
        "</div>\n",
        "<br>\n",
        "<h2> STOCK/CRYPTO ANALYSER</h2>\n",
        "<form action='/anal2'>\n",
        "<p> 1. GOOGL - for Google (Stock) <br>\n",
        "2. AAPL - for Apple (Stock) <br>\n",
        "3. GLD - for Gold (Stock) <br>\n",
        "4. BTC - for Bitcoin (Crypto) <br>\n",
        "5. DOGE-COIN - (crypto) </p> <br>\n",
        "<p>Enter Stock/Crypto Code:</p> <input type=\"text\" name=\"txt\" id=\"txt\"><br>\n",
        "<br><br><input type=\"submit\">\n",
        "</body>\n",
        "</html>\n",
        "'''\n",
        "file = open(\"analysis.html\",\"w\")\n",
        "file.write(anal)\n",
        "file.close()"
      ],
      "metadata": {
        "id": "syYbqhI2WtUC"
      },
      "execution_count": null,
      "outputs": []
    },
    {
      "cell_type": "code",
      "source": [
        "anal2 = '''\n",
        "<!DOCTYPE html>\n",
        "<html>\n",
        "<head>\n",
        "<style>\n",
        "body{\n",
        "\tbackground-color:AliceBlue;}\n",
        "div.topnav{\n",
        "\tbackground-color:black;\n",
        "\tfont-size:20px;\n",
        "\toverflow:hidden;\n",
        "\tpadding: 10px 20px;\n",
        "\t}\n",
        "div.topnav a{\n",
        "\tcolor:white;\n",
        "\tpadding: 10px 20px;\n",
        "\ttext-align:center;\n",
        "\ttext-decoration:none;}\n",
        "div.topnav a:hover{\n",
        "\tbackground-color:grey;}\n",
        "div.topnav a.active{\n",
        "\tbackground-color:lime;\n",
        "\tcolor:white;}\n",
        "h1{\n",
        "\tfont-family:Courier New;\n",
        "\tfont-size:40px;}\n",
        "h2{\tfont-family:Courier New;\n",
        "\ttext-align:center;\n",
        "\tfont-size:30px;}\n",
        "p{\tfont-family:Comic Sans MS;\n",
        "\tfont-size:20px;}\n",
        "</style>\n",
        "<title> STOCK/CRYPTO ANALYSER </title>\n",
        "<meta name=\"viewport\" content=\"width=device-width, initial-scale=1.0\">\n",
        "</head>\n",
        "<body>\n",
        "<h1> STOCK PRICE PREDICTOR </h1>\n",
        "<div class=\"topnav\">\n",
        " <a href='/'>Home</a>\n",
        " <a class=\"active\" href=\"/anal\">Stock-Crypto Analyer</a>\n",
        " <a href='/pred'>Predictor</a>\n",
        "</div>\n",
        "<br>\n",
        "<h2> STOCK/CRYPTO ANALYSER</h2>\n",
        "<p>For Stock {{code}}</p> \n",
        "{{trade | safe}}\n",
        "<br><br><br>\n",
        "</body>\n",
        "</html>\n",
        "'''\n",
        "file = open(\"anal2.html\",\"w\")\n",
        "file.write(anal2)\n",
        "file.close()"
      ],
      "metadata": {
        "id": "b61iAoMKzoeS"
      },
      "execution_count": null,
      "outputs": []
    },
    {
      "cell_type": "code",
      "source": [
        "import matplotlib.pyplot as plt\n",
        "import base64\n",
        "import io\n",
        "from pandas._libs import reshape\n",
        "import datetime as dt"
      ],
      "metadata": {
        "id": "S4Qg7b7ErHqc"
      },
      "execution_count": null,
      "outputs": []
    },
    {
      "cell_type": "code",
      "source": [
        "from flask import Flask, render_template, request\n",
        "from flask_ngrok import run_with_ngrok\n",
        "\n",
        "app = Flask(__name__,template_folder=\"/content/\")\n",
        "run_with_ngrok(app)\n",
        "\n",
        "\n",
        "@app.route(\"/\")\n",
        "def home():\n",
        "    return render_template(\"home.html\")\n",
        "\n",
        "@app.route(\"/anal\")\n",
        "def ana():\n",
        "    return render_template(\"analysis.html\")\n",
        "\n",
        "@app.route(\"/anal2\")\n",
        "def analy():\n",
        "    ch = request.args.get(\"txt\")\n",
        "    if ch==\"GOOGL\":\n",
        "      tr = df1.tail(10).to_html()\n",
        "    elif ch == \"AAPL\":\n",
        "      tr = df2.tail(10).to_html()\n",
        "    elif ch == \"GLD\":\n",
        "      tr = df3.tail(10).to_html()\n",
        "    elif ch == \"BTC\":\n",
        "      tr = df4.tail(10).to_html()\n",
        "    elif ch == \"DOGE-USD\":\n",
        "      tr = df5.tail(10).to_html()\n",
        "    return render_template(\"anal2.html\", trade = tr, code = ch)\n",
        "\n",
        "@app.route(\"/pred\")\n",
        "def fun():\n",
        "    return render_template(\"pred_main.html\")\n",
        "\n",
        "def next5days(model, date, ch):\n",
        "  go_quote1 = web.DataReader(ch, data_source='yahoo', start='2012-01-01', end = date)\n",
        "  ndf1 = go_quote1.filter(['Close'])\n",
        "  l60d1 = ndf1[-60:].values\n",
        "  l60d_sc1 = sc1.transform(l60d1)\n",
        "  X_test1 = []\n",
        "  X_test1.append(l60d_sc1)\n",
        "  X_test1 = np.array(X_test1)\n",
        "  X_test1 = np.reshape(X_test1, (X_test1.shape[0], X_test1.shape[1], 1))\n",
        "  pred_price1 = model.predict(X_test1)\n",
        "  pred_price1 = sc1.inverse_transform(pred_price1)\n",
        "  pr = pred_price1[0][0]\n",
        "  return pr\n",
        "\n",
        "@app.route(\"/pred2\")\n",
        "def next():\n",
        "    ch = request.args.get(\"txt\")\n",
        "    date = request.args.get(\"date\")\n",
        "    if(ch==\"GOOGL\"):\n",
        "      model = model1\n",
        "    elif(ch==\"AAPL\"):\n",
        "      model = model2\n",
        "    elif(ch==\"GLD\"):\n",
        "      model = model3\n",
        "    elif(ch==\"BTC\"):\n",
        "      model = model4\n",
        "    elif(ch==\"DOGE-USD\"):\n",
        "      model = model5\n",
        "    \n",
        "    go_quote1 = web.DataReader(ch, data_source='yahoo', start='2012-01-01', end = date)\n",
        "    ndf1 = go_quote1.filter(['Close'])\n",
        "    l60d1 = ndf1[-60:].values\n",
        "    l60d_sc1 = sc1.transform(l60d1)\n",
        "    X_test1 = []\n",
        "    X_test1.append(l60d_sc1)\n",
        "    X_test1 = np.array(X_test1)\n",
        "    X_test1 = np.reshape(X_test1, (X_test1.shape[0], X_test1.shape[1], 1))\n",
        "    pred_price1 = model.predict(X_test1)\n",
        "    pred_price1 = sc1.inverse_transform(pred_price1)\n",
        "    pr = pred_price1[0][0]\n",
        "    \n",
        "    tdy = dt.datetime.today()\n",
        "    d1 = tdy + dt.timedelta(days=1)\n",
        "    d2 = d1 + dt.timedelta(days=1)\n",
        "    d3 = d2 + dt.timedelta(days=1)\n",
        "    d4 = d3 + dt.timedelta(days=1)\n",
        "    d5 = d4 + dt.timedelta(days=1)\n",
        "\n",
        "    p1 = next5days(model, d1, ch);\n",
        "\n",
        "    return render_template(\"index2.html\", pred = pr, p1 = p1)\n",
        "\n",
        "if __name__ == \"__main__\":\n",
        "    app.run() "
      ],
      "metadata": {
        "id": "_y3AmIcAFAWJ",
        "colab": {
          "base_uri": "https://localhost:8080/"
        },
        "outputId": "1e4539d6-448e-4891-8352-069cb3c9a7d7"
      },
      "execution_count": null,
      "outputs": [
        {
          "output_type": "stream",
          "name": "stdout",
          "text": [
            " * Serving Flask app \"__main__\" (lazy loading)\n",
            " * Environment: production\n",
            "\u001b[31m   WARNING: This is a development server. Do not use it in a production deployment.\u001b[0m\n",
            "\u001b[2m   Use a production WSGI server instead.\u001b[0m\n",
            " * Debug mode: off\n"
          ]
        },
        {
          "output_type": "stream",
          "name": "stderr",
          "text": [
            " * Running on http://127.0.0.1:5000/ (Press CTRL+C to quit)\n"
          ]
        },
        {
          "output_type": "stream",
          "name": "stdout",
          "text": [
            " * Running on http://d94d-34-125-174-229.ngrok.io\n",
            " * Traffic stats available on http://127.0.0.1:4040\n"
          ]
        },
        {
          "output_type": "stream",
          "name": "stderr",
          "text": [
            "127.0.0.1 - - [30/Jun/2022 09:23:07] \"\u001b[37mGET / HTTP/1.1\u001b[0m\" 200 -\n",
            "127.0.0.1 - - [30/Jun/2022 09:23:08] \"\u001b[33mGET /favicon.ico HTTP/1.1\u001b[0m\" 404 -\n",
            "127.0.0.1 - - [30/Jun/2022 09:34:01] \"\u001b[37mGET /anal HTTP/1.1\u001b[0m\" 200 -\n",
            "127.0.0.1 - - [30/Jun/2022 09:34:07] \"\u001b[37mGET /anal2?txt=GOOGL HTTP/1.1\u001b[0m\" 200 -\n",
            "127.0.0.1 - - [30/Jun/2022 09:34:14] \"\u001b[37mGET /pred HTTP/1.1\u001b[0m\" 200 -\n",
            "127.0.0.1 - - [30/Jun/2022 09:34:25] \"\u001b[37mGET /pred2?txt=GOOGL&date=2022-05-06 HTTP/1.1\u001b[0m\" 200 -\n"
          ]
        }
      ]
    }
  ]
}